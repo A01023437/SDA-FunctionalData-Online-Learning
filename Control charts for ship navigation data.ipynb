{
 "cells": [
  {
   "cell_type": "markdown",
   "id": "5d2d36d1",
   "metadata": {},
   "source": [
    "**Author: Alfredo Gimenez Zapiola**\n",
    "## Functional Data Analysis meets Streaming Machine Learning\n",
    "\n",
    "In this project, I intend to do both a **knowledge sharing** of a [paper](https://onlinelibrary.wiley.com/doi/full/10.1002/qre.2949) co-authored by Prof. Vantini of Nonparametric Statistics, as well as an **integration** with the contents studied at the Streaming Data Analytics (SDA) (Prof. Della Valle) course.\n",
    "<br>\n",
    "#### What the paper is about\n",
    "<ins> Functional regression control chart for monitoring ship CO2 emissions </ins> \n",
    "<br>\n",
    "The paper presents a **supervised learning problem**. The target variable are the total CO2 emissions of ship trips, whereas the covariates are functions, such as the acceleration along the whole time of the voyage, the velocity, etc.\n",
    "<br>\n",
    "There are two main **takeaways** for the Streaming Machine Learning setting:\n",
    " * We can **extract numerical features** from the functions performing a **principal component analysis** on the functions. The scores (scalar) of each trip on the principal components are the features used to perform learning.\n",
    " <br>\n",
    " * Thanks to mathematical properties of the L2 Hilbert space (a space of functions) and of linear regression, not only the prediction error can be monitored, but also the scores. In other words, **anomaly detection** is performed both on the **target variable** and on the **predicting variables** with **control charts**.\n",
    " \n",
    "#### The contributions of this project\n",
    "1. A **demo** of how state-of-the-art functional analysis techniques can be used not only in the Machine Learning but in the Streaming Machine Learning setting for **feature extraction**.\n",
    "2. A new **methodology** which incorproates the SDA topics, such that Functional Data Analysis techniques can also be used for **Concept Drift** detection as well as in the **Streaming Machine Learning setting**.\n",
    "\n",
    "\n",
    "## Index\n",
    "\n",
    "### I.  Theoretical Framework & Methodology\n",
    " The basics of the quoted paper are explained. \n",
    "\n",
    "### II.  Canada Weather Dataset.\n",
    "  A very well-known and simple functional dataset is used to show a basic demonstration.\n",
    " <br>\n",
    "  In this case, it is a classification problem, with the **temperature** and **humidity** across time functions are the covariate, and the **type of station** is the label to be predicted. \n",
    "\n",
    "### III. Ships dataset\n",
    "  The dataset originally used on the paper is utilised, applying **Concept Drift Detectors** and showing how it can be used on streaming machine learnign with **Hoeffding Tree Regressors**."
   ]
  },
  {
   "cell_type": "markdown",
   "id": "cb597ec6",
   "metadata": {},
   "source": [
    "### I.  Theoretical Framework & Methodology\n",
    "\n",
    "####  I. Covariates.\n",
    "##### What it means to have functions as covariates\n",
    " The regressors are functions assumed to belong to $L^2(\\Omega) $, where $\\Omega$ the domain of the function, in these applications a finite (and hence compact) subset of $\\mathbb{R}$.\n",
    " <br> Belonging to $L^2(\\Omega) $ means that $\\int_{\\Omega} {|f(t)|}^2 dt < + \\infty$\n",
    " <br>\n",
    " <br>\n",
    " A special property of $L^2(\\Omega) $, in contrast with $L^p(\\Omega) $ for any other $p$, is that is is a **Hilbert space**, hence it has a dot product.\n",
    " \n",
    "##### The samples in the supervised learning setting.\n",
    " In addition, we may have, for every sample of data, not only one function (say that of acceleration), but many (also the velocity, the wind, temperature, etc.)\n",
    " <br>\n",
    " Hence we can represent the dataset in the following way: \n",
    " $(y_i, \\mathbf{X_i})_{i \\in N}$\n",
    " where: <br>\n",
    "  * $N$ is the cardinality of the dataset\n",
    "  * $\\mathbf{X_i} = (X_{i1}, X_{i2},  X_{ip})_{p \\in P}$ where P is the number of dimensions, and each X_p is a function defined on $\\Omega$ that measures something related to the sample (acceleration, temperature, etc). $\\mathbf{X_i}$ is thus a random element with each dimension taking values in  $L^2(\\Omega) $.\n",
    "  * $y_i$ is what we want to predict; can be a label (Canada Weather dataset) or a real number (Ships dataset)\n",
    " \n",
    "#### II. Feature extraction\n",
    "##### 1.  <ins> Smoothing </ins>\n",
    "<br>\n",
    " The covariates, insofar they are functions, are infinite-dimensional. However, we do not have infinite-dimensional measurements but discretised ones. \n",
    "<br>\n",
    "  Therefore, to get the functions, different a basis (Fourier, B-Spline) is chosen to perform the smoothing, using the measurements to find the optimal coefficients, such that the functions are expressed as a linear combination of the basis.  (see the canada weather dataset for a visual demonstration)\n",
    "<br>\n",
    "\n",
    "##### 2.  <ins> Spectral decomposition </ins>\n",
    "<br>\n",
    "As mentioned before, the main feature of $L^2(\\Omega) $ is that is bestowed with a dot product. This means a **spectral decomposition**, the **Functional PCA** can be performed.\n",
    "<br>\n",
    "The detailed description and mathematical formulation can be found in the paper. The key takeaway is that the the **covariance operator is approximated with a discretized version** , and the **spectral decomposition** is obtained using it in the same way as in classical machine learning.\n",
    "<br>\n",
    "It is important to know that the number of principal components obtained is $n - 1$, where n is the number of samples used for the calculation.\n",
    "<br>\n",
    "Just like in the usual setting, the functions have to be standardized before performing the PCA, so the mean and variance of the functions is estimated as well.\n",
    "    \n",
    "<br>\n",
    "\n",
    "##### 3. <ins> Scores </ins>\n",
    "<br>\n",
    "Once the spectral decomposition has been done, the scores on the PCs can be obtained.\n",
    "<br>\n",
    "The score on the $m$th dimension on the $i$th sample is given by: <br>\n",
    "$\\xi_{mi} = \\langle {\\mathbf{X_i}, \\mathbf{\\Psi_m}} \\rangle _\\mathbb{H} = \\sum_{p=1}^{P}\\langle {X_{ip},\\Psi_{mp}} \\rangle _\\mathbb{H} \\forall i \\in N, \\forall m \\in {1, ..., M}$\n",
    "<br> \n",
    "where \n",
    "<br>\n",
    "$p$ is the index of each dimension\n",
    "<br>\n",
    "$M$ is the number of principal components we extract from the spectral decomposition\n",
    "<br>\n",
    "$\\langle {.,.} \\rangle _\\mathbb{H}$ is the dot product in the Hilbert Space $\\mathbb{H}$\n",
    "\n",
    "In the paper, the selection of the number of the components is not only based on the scree plot, but also on the PRESS statistic. \n",
    "\n",
    "####  III. Phase I and Phase II \n",
    "The paper explaines two phases in the methodology:\n",
    "\n",
    "##### Phase 1. Model estimation\n",
    "\n",
    "* An under-control sample is used to estimate the PCA, and fits a regression on the target variable using the scores as covariates.\n",
    "\n",
    "* The distributions of the T² statistic and of the SPE statistic are used to obtain the control limits to use in the control charts.\n",
    "The T² statistic of the $i$th sample is: <br>\n",
    "$T^2_i :=  \\sum_{m \\in M} \\frac{(\\hat{\\xi_{mi}})^2} {\\hat{\\lambda_m}}$\n",
    "<br> <br>\n",
    "with ${\\hat{\\lambda_m}}$ the $m$th eigenvalue. \n",
    "<br> <br>\n",
    "and the SPE on the $i$th unit is:\n",
    "<br> <br>\n",
    "$SPE_i :=  \\sum_{m \\in M} (\\hat{\\xi_{mi}})^2 $\n",
    "\n",
    "\n",
    "##### Phase 2. Monitoring of multivariate functional covariates and scalar response\n",
    "\n",
    "* The regression is used to predict on new samples, and the scores of the new samples are used to obtain the T² and SPE statistics. \n",
    "* The control charts are updated online with the statistics and using the previously estimated control limits."
   ]
  },
  {
   "cell_type": "markdown",
   "id": "118800dc",
   "metadata": {},
   "source": [
    "### II.  Canada Weather Dataset.\n",
    "* Target variable: the type of station (0, 1, 2, 3)\n",
    "* Covariates: temperature, humidity, log(humidity) along time for a year\n",
    "* 35 samples"
   ]
  },
  {
   "cell_type": "code",
   "execution_count": 1,
   "id": "6e221a5f",
   "metadata": {},
   "outputs": [
    {
     "name": "stdout",
     "output_type": "stream",
     "text": [
      "warning in stationary: failed to import cython module: falling back to numpy\n",
      "warning in coregionalize: failed to import cython module: falling back to numpy\n",
      "warning in choleskies: failed to import cython module: falling back to numpy\n"
     ]
    }
   ],
   "source": [
    "# scikit-fda\n",
    "import skfda"
   ]
  },
  {
   "cell_type": "markdown",
   "id": "7f91133b",
   "metadata": {},
   "source": [
    "Just like in the paper, we select a \"training set\", which is a set we believe to be under statistical control, to perform the FPCA. From the FPCA we can obtain the scores on new data.\n",
    "<br>\n",
    "We perform a random train test split for the sake of this exercise.\n",
    "<br>\n",
    "The plots are the following:\n",
    "* Temperature along time (each colour is a label)\n",
    "* Smoothed temperature along time"
   ]
  },
  {
   "cell_type": "code",
   "execution_count": 2,
   "id": "a1ace8fe",
   "metadata": {},
   "outputs": [
    {
     "name": "stderr",
     "output_type": "stream",
     "text": [
      " /home/alfredo/PycharmProjects/SDA-Functional-Control-Charts/venv/lib/python3.6/site-packages/skfda/datasets/_real_datasets.py:817: VisibleDeprecationWarning:Creating an ndarray from ragged nested sequences (which is a list-or-tuple of lists-or-tuples-or ndarrays with different lengths or shapes) is deprecated. If you meant to do this, you must specify 'dtype=object' when creating the ndarray\n"
     ]
    },
    {
     "data": {
      "image/png": "[encoded data removed]",
      "text/plain": [
       "<Figure size 432x288 with 1 Axes>"
      ]
     },
     "metadata": {
      "needs_background": "light"
     },
     "output_type": "display_data"
    },
    {
     "data": {
      "image/png": "[encoded data removed]",
      "text/plain": [
       "<Figure size 432x288 with 1 Axes>"
      ]
     },
     "metadata": {
      "needs_background": "light"
     },
     "output_type": "display_data"
    }
   ],
   "source": [
    "\n",
    "import matplotlib.pyplot as plt\n",
    "from sklearn.model_selection import (train_test_split, GridSearchCV,\n",
    "                                     StratifiedShuffleSplit)\n",
    "\n",
    "X, y = skfda.datasets.fetch_weather(return_X_y=True) # retrieve the dataset\n",
    "X = X.data_matrix[:, :, 0]\n",
    "# cast to an FD object\n",
    "X = skfda.FDataGrid(data_matrix=X, grid_points=range(365))\n",
    "# perform train test split\n",
    "X_train, X_test, y_train, y_test, indtrain, indtest =(\n",
    "    train_test_split(X, y, range(X.shape[0]), test_size=0.60,\n",
    "                                                    stratify=y, random_state=0))\n",
    "# a Fourier basis used for the smoothing\n",
    "basis = skfda.representation.basis.Fourier(n_basis=109)\n",
    "X_basis = X_train.to_basis(basis)\n",
    "X_basis_t = X_test.to_basis(basis)\n",
    "\n",
    "X_train.plot(group=y_train)\n",
    "X_basis.plot(group=y_train)\n",
    "plt.show()"
   ]
  },
  {
   "cell_type": "markdown",
   "id": "ccfc1c92",
   "metadata": {},
   "source": [
    "We print the test set indices."
   ]
  },
  {
   "cell_type": "code",
   "execution_count": 3,
   "id": "51c4e5ed",
   "metadata": {},
   "outputs": [
    {
     "data": {
      "text/plain": [
       "[30, 16, 29, 32, 28, 24, 12, 3, 7, 10, 21, 27, 22, 15, 11, 2, 31, 14, 5, 33, 0]"
      ]
     },
     "execution_count": 3,
     "metadata": {},
     "output_type": "execute_result"
    }
   ],
   "source": [
    "indtest"
   ]
  },
  {
   "cell_type": "markdown",
   "id": "1bb3de96",
   "metadata": {},
   "source": [
    "The FPCA is done in the **fda** library in R. To use python as in the Streaming Machine Learning courses (and in real-world applications, like lambda functions in Amazon Web Services), we use the library **rpy2** which allows to do an R instance in Python.\n",
    "<br>\n",
    "Moreover, a custom function, namely **predictFPCA** is written to obtain the scores of new functions (note this option is not available in the fda library so I had to code it myself)."
   ]
  },
  {
   "cell_type": "code",
   "execution_count": 4,
   "id": "8b1a834f",
   "metadata": {},
   "outputs": [
    {
     "name": "stderr",
     "output_type": "stream",
     "text": [
      "R[write to console]: Caricamento del pacchetto richiesto: splines\n",
      "\n",
      "R[write to console]: Caricamento del pacchetto richiesto: Matrix\n",
      "\n",
      "R[write to console]: Caricamento del pacchetto richiesto: fds\n",
      "\n",
      "R[write to console]: Caricamento del pacchetto richiesto: rainbow\n",
      "\n",
      "R[write to console]: Caricamento del pacchetto richiesto: MASS\n",
      "\n",
      "R[write to console]: Caricamento del pacchetto richiesto: pcaPP\n",
      "\n",
      "R[write to console]: Caricamento del pacchetto richiesto: RCurl\n",
      "\n",
      "R[write to console]: Caricamento del pacchetto richiesto: deSolve\n",
      "\n",
      "R[write to console]: \n",
      "Caricamento pacchetto: ‘fda’\n",
      "\n",
      "\n",
      "R[write to console]: Il seguente oggetto è mascherato da ‘package:graphics’:\n",
      "\n",
      "    matplot\n",
      "\n",
      "\n"
     ]
    },
    {
     "name": "stdout",
     "output_type": "stream",
     "text": [
      " [1]  2  3  5  7 10 11 12 14 15 16 21 22 24 27 28 29 30 31 32 33 35\n"
     ]
    },
    {
     "data": {
      "text/html": [
       "<div>\n",
       "<style scoped>\n",
       "    .dataframe tbody tr th:only-of-type {\n",
       "        vertical-align: middle;\n",
       "    }\n",
       "\n",
       "    .dataframe tbody tr th {\n",
       "        vertical-align: top;\n",
       "    }\n",
       "\n",
       "    .dataframe thead th {\n",
       "        text-align: right;\n",
       "    }\n",
       "</style>\n",
       "<table border=\"1\" class=\"dataframe\">\n",
       "  <thead>\n",
       "    <tr style=\"text-align: right;\">\n",
       "      <th></th>\n",
       "      <th>V1</th>\n",
       "      <th>V2</th>\n",
       "      <th>V3</th>\n",
       "      <th>V4</th>\n",
       "    </tr>\n",
       "  </thead>\n",
       "  <tbody>\n",
       "    <tr>\n",
       "      <th>9</th>\n",
       "      <td>72.706262</td>\n",
       "      <td>69.563374</td>\n",
       "      <td>-10.763957</td>\n",
       "      <td>-3.479456</td>\n",
       "    </tr>\n",
       "    <tr>\n",
       "      <th>23</th>\n",
       "      <td>-8.660909</td>\n",
       "      <td>-15.050356</td>\n",
       "      <td>21.431621</td>\n",
       "      <td>-13.049428</td>\n",
       "    </tr>\n",
       "    <tr>\n",
       "      <th>26</th>\n",
       "      <td>177.206028</td>\n",
       "      <td>37.156911</td>\n",
       "      <td>26.041769</td>\n",
       "      <td>2.941476</td>\n",
       "    </tr>\n",
       "    <tr>\n",
       "      <th>20</th>\n",
       "      <td>-15.167206</td>\n",
       "      <td>-40.915000</td>\n",
       "      <td>9.380945</td>\n",
       "      <td>-4.343573</td>\n",
       "    </tr>\n",
       "    <tr>\n",
       "      <th>4</th>\n",
       "      <td>106.976402</td>\n",
       "      <td>41.714564</td>\n",
       "      <td>-8.337847</td>\n",
       "      <td>-3.132779</td>\n",
       "    </tr>\n",
       "    <tr>\n",
       "      <th>17</th>\n",
       "      <td>-26.538445</td>\n",
       "      <td>-47.124274</td>\n",
       "      <td>-7.189573</td>\n",
       "      <td>-2.037762</td>\n",
       "    </tr>\n",
       "    <tr>\n",
       "      <th>25</th>\n",
       "      <td>118.445192</td>\n",
       "      <td>-34.217252</td>\n",
       "      <td>35.984706</td>\n",
       "      <td>-0.798111</td>\n",
       "    </tr>\n",
       "    <tr>\n",
       "      <th>19</th>\n",
       "      <td>-193.155653</td>\n",
       "      <td>40.376843</td>\n",
       "      <td>-4.248008</td>\n",
       "      <td>-24.151646</td>\n",
       "    </tr>\n",
       "    <tr>\n",
       "      <th>1</th>\n",
       "      <td>72.706262</td>\n",
       "      <td>69.563374</td>\n",
       "      <td>-10.763957</td>\n",
       "      <td>-3.948534</td>\n",
       "    </tr>\n",
       "    <tr>\n",
       "      <th>18</th>\n",
       "      <td>-73.807478</td>\n",
       "      <td>-30.232159</td>\n",
       "      <td>-1.205404</td>\n",
       "      <td>-7.792184</td>\n",
       "    </tr>\n",
       "    <tr>\n",
       "      <th>8</th>\n",
       "      <td>0.446762</td>\n",
       "      <td>-15.692021</td>\n",
       "      <td>-24.584663</td>\n",
       "      <td>3.249578</td>\n",
       "    </tr>\n",
       "    <tr>\n",
       "      <th>6</th>\n",
       "      <td>52.628520</td>\n",
       "      <td>0.941124</td>\n",
       "      <td>-19.030691</td>\n",
       "      <td>11.044635</td>\n",
       "    </tr>\n",
       "    <tr>\n",
       "      <th>34</th>\n",
       "      <td>-248.177119</td>\n",
       "      <td>29.632015</td>\n",
       "      <td>25.433827</td>\n",
       "      <td>27.403470</td>\n",
       "    </tr>\n",
       "    <tr>\n",
       "      <th>13</th>\n",
       "      <td>51.613552</td>\n",
       "      <td>-25.703701</td>\n",
       "      <td>-19.381460</td>\n",
       "      <td>12.457203</td>\n",
       "    </tr>\n",
       "  </tbody>\n",
       "</table>\n",
       "</div>"
      ],
      "text/plain": [
       "            V1         V2         V3         V4\n",
       "9    72.706262  69.563374 -10.763957  -3.479456\n",
       "23   -8.660909 -15.050356  21.431621 -13.049428\n",
       "26  177.206028  37.156911  26.041769   2.941476\n",
       "20  -15.167206 -40.915000   9.380945  -4.343573\n",
       "4   106.976402  41.714564  -8.337847  -3.132779\n",
       "17  -26.538445 -47.124274  -7.189573  -2.037762\n",
       "25  118.445192 -34.217252  35.984706  -0.798111\n",
       "19 -193.155653  40.376843  -4.248008 -24.151646\n",
       "1    72.706262  69.563374 -10.763957  -3.948534\n",
       "18  -73.807478 -30.232159  -1.205404  -7.792184\n",
       "8     0.446762 -15.692021 -24.584663   3.249578\n",
       "6    52.628520   0.941124 -19.030691  11.044635\n",
       "34 -248.177119  29.632015  25.433827  27.403470\n",
       "13   51.613552 -25.703701 -19.381460  12.457203"
      ]
     },
     "execution_count": 4,
     "metadata": {},
     "output_type": "execute_result"
    }
   ],
   "source": [
    "import rpy2.robjects as robjects\n",
    "from rpy2.robjects.conversion import localconverter\n",
    "from rpy2.robjects import pandas2ri\n",
    "robjects.r('''\n",
    "    library(fda) # load the library\n",
    "    \n",
    "    indices_train <- c(9, 23, 26, 20, 4, 17, 25, 19, 1, 18, 8, 6, 34, 13)\n",
    "    data_W <- CanadianWeather$dailyAv \n",
    "    time <- 1:365\n",
    "    basis.3 <- create.fourier.basis(rangeval=c(0,365),nbasis=109)\n",
    "    \n",
    "    # cast the data to fd object\n",
    "    data_W.fd.3 <- Data2fd(y = data_W,argvals = time,basisobj = basis.3)\n",
    "    \n",
    "    # carry out the functional pca\n",
    "    pca_W.1 <- pca.fd(data_W.fd.3[indices_train],nharm=25,centerfns=TRUE)\n",
    "    \n",
    "    # PREPARE TRAINING SET\n",
    "    \n",
    "    i <- indices_train[1]\n",
    "    Z <- cbind(pca_W.1$scores[i, 1:4, 1], pca_W.1$scores[i, 1:4, 2], pca_W.1$scores[i, 1:4, 3])\n",
    "    Z <- apply(Z, MARGIN = 1, FUN = sum) \n",
    "    for (i in 2:length(indices_train)){\n",
    "          aux <- cbind(pca_W.1$scores[i, 1:4, 1], pca_W.1$scores[i, 1:4, 2], \n",
    "                  pca_W.1$scores[i, 1:3, 3])\n",
    "          Z <- rbind(Z, apply(aux, MARGIN = 1, FUN = sum))\n",
    "    }\n",
    "    Z <- as.data.frame(Z)\n",
    "    rownames(Z) = indices_train\n",
    "    \n",
    "    ### PREDICT SCORES ON NEW FUNCTIONAL SAMPLE\n",
    "    predictFPCA <- function(pca_obj, fdobj, nharm=25, nvar=3){\n",
    "      # Center (crucial!)\n",
    "      fdobj$coefs <- fdobj$coefs - pca_obj$meanfd$coefs[,1,]\n",
    "\n",
    "      harmscr  <- array(0, c(nharm, nvar))\n",
    "      coefarray <- fdobj$coefs\n",
    "      harmcoefarray <- (pca_obj$harmonics)$coefs\n",
    "      basisobj <- fdobj$basis\n",
    "      for (j in 1:nvar) {\n",
    "        fdobjj  <- fd(as.matrix(coefarray[,j]), basisobj)\n",
    "        harmfdj <- fd(as.matrix(harmcoefarray[,,j]), basisobj)\n",
    "        harmscr[,j] <- inprod(fdobjj, harmfdj)\n",
    "      }\n",
    "      return (harmscr)\n",
    "    }\n",
    "\n",
    "    # PREPARE TEST SET \n",
    "    # define the custom function\n",
    "    test_ind <- (1:dim(data_W)[2])[-indices_train]\n",
    "    print(test_ind)\n",
    "    Z_test <- array(0, c(length(test_ind), 6))\n",
    "    for (i in 1:length(test_ind)){\n",
    "      cur.curve <- data_W.fd.3[ test_ind[i] ]\n",
    "      scores <- predictFPCA(pca_W.1, cur.curve, nharm=25, nvar=3)\n",
    "      Z_test[i, ] = apply(scores[1:6,], MARGIN = 1, FUN = sum)\n",
    "    }\n",
    "\n",
    "    Z_test <- as.data.frame(Z_test)\n",
    "    rownames(Z_test) <- test_ind\n",
    "    \n",
    "    \n",
    "''')\n",
    "# convert the R objects to python objects\n",
    "with localconverter(robjects.default_converter + pandas2ri.converter):\n",
    "    X_train = robjects.conversion.rpy2py(robjects.r('Z'))\n",
    "    X_test = robjects.conversion.rpy2py(robjects.r('Z_test'))\n",
    "X_train\n"
   ]
  },
  {
   "cell_type": "markdown",
   "id": "452fa00b",
   "metadata": {},
   "source": [
    "Above we see the dataframe of the training dataset. The first four components were kept. "
   ]
  },
  {
   "cell_type": "markdown",
   "id": "4ee37a77",
   "metadata": {},
   "source": [
    "Now, the Streaming Machine Learning pipeline is set up. Having in total 35 samples, a rolling window of 5 samples is used for the accuracy.\n",
    "<br>\n",
    "The chosen model is the multinomial regression, with a standard scaler for the features"
   ]
  },
  {
   "cell_type": "code",
   "execution_count": 5,
   "id": "298f3a50",
   "metadata": {},
   "outputs": [],
   "source": [
    "from river.metrics import Rolling, Accuracy\n",
    "# from river.tree import HoeffdingTreeClassifier\n",
    "from river.stream import iter_pandas\n",
    "from river import linear_model\n",
    "from river import preprocessing\n",
    "\n",
    "\n",
    "metric = Rolling(Accuracy(), window_size=5)\n",
    "# model = HoeffdingTreeClassifier()\n",
    "model = preprocessing.StandardScaler()  # important to standardize\n",
    "model |= linear_model.SoftmaxRegression()\n"
   ]
  },
  {
   "cell_type": "code",
   "execution_count": 6,
   "id": "45da12ba",
   "metadata": {},
   "outputs": [
    {
     "name": "stdout",
     "output_type": "stream",
     "text": [
      "Accuracy: 0.00%\t(rolling 5)\n",
      "Accuracy: 0.00%\t(rolling 5)\n",
      "Accuracy: 33.33%\t(rolling 5)\n",
      "Accuracy: 50.00%\t(rolling 5)\n",
      "Accuracy: 60.00%\t(rolling 5)\n",
      "Accuracy: 80.00%\t(rolling 5)\n",
      "Accuracy: 100.00%\t(rolling 5)\n",
      "Accuracy: 100.00%\t(rolling 5)\n",
      "Accuracy: 100.00%\t(rolling 5)\n",
      "Accuracy: 100.00%\t(rolling 5)\n",
      "Accuracy: 100.00%\t(rolling 5)\n",
      "Accuracy: 80.00%\t(rolling 5)\n",
      "Accuracy: 80.00%\t(rolling 5)\n"
     ]
    }
   ],
   "source": [
    "import pandas as pd\n",
    "# training set:\n",
    "for x, y in iter_pandas(X=X_train, y=pd.Series(y_train)):\n",
    "    y_p = model.predict_one(x)   # Predict class\n",
    "    if y_p is not None:\n",
    "        print(metric.update(y_true=y, y_pred=y_p))\n",
    "    model.learn_one(x, y)        # Train the model\n"
   ]
  },
  {
   "cell_type": "markdown",
   "id": "af6fc892",
   "metadata": {},
   "source": [
    "We observe the model learns quite well. \n",
    "<br>\n",
    "We move on to the \"online\" set. Here it is called test set, but it will be equivalent to the samples that arrive real time.\n",
    "<br>\n",
    "The following is carried out:\n",
    "* Page Hinkley Concept Drift detectors for the first 2 covariates: the scores on the first and second principal component\n",
    "* a DDM for the classification error"
   ]
  },
  {
   "cell_type": "code",
   "execution_count": 7,
   "id": "6b4dee31",
   "metadata": {},
   "outputs": [
    {
     "name": "stdout",
     "output_type": "stream",
     "text": [
      "Accuracy: 60.00%\t(rolling 5)\n",
      "Accuracy: 40.00%\t(rolling 5)\n",
      "Accuracy: 20.00%\t(rolling 5)\n",
      "Accuracy: 20.00%\t(rolling 5)\n",
      "Accuracy: 0.00%\t(rolling 5)\n",
      "Accuracy: 0.00%\t(rolling 5)\n",
      "Accuracy: 20.00%\t(rolling 5)\n",
      "Accuracy: 40.00%\t(rolling 5)\n",
      "Accuracy: 60.00%\t(rolling 5)\n",
      "Change detected at index 8\n",
      "Accuracy: 60.00%\t(rolling 5)\n",
      "Accuracy: 60.00%\t(rolling 5)\n",
      "Accuracy: 40.00%\t(rolling 5)\n",
      "Accuracy: 20.00%\t(rolling 5)\n",
      "Accuracy: 0.00%\t(rolling 5)\n",
      "Accuracy: 0.00%\t(rolling 5)\n",
      "Accuracy: 0.00%\t(rolling 5)\n",
      "Accuracy: 20.00%\t(rolling 5)\n",
      "Accuracy: 20.00%\t(rolling 5)\n",
      "Change detected at index 17\n",
      "Accuracy: 20.00%\t(rolling 5)\n",
      "Accuracy: 20.00%\t(rolling 5)\n",
      "Accuracy: 20.00%\t(rolling 5)\n"
     ]
    }
   ],
   "source": [
    "# test set:\n",
    "# control charts too\n",
    "from river.drift import PageHinkley\n",
    "from river.drift import DDM\n",
    "\n",
    "# monitor regressors\n",
    "page_h_1 = PageHinkley(min_instances=10)\n",
    "page_h_2 = PageHinkley(min_instances=10)\n",
    "\n",
    "# monitor classification error\n",
    "ddm = DDM()\n",
    "\n",
    "warnings = list()\n",
    "drifts = list()\n",
    "warning = -1\n",
    "\n",
    "\n",
    "index = 0\n",
    "for x, y in iter_pandas(X=X_test, y=pd.Series(y_test)):\n",
    "    \n",
    "    y_p = model.predict_one(x)   # Predict class\n",
    "    \n",
    "    page_h_1.update(x['V1'])  # update the monitor of the first regressor\n",
    "    page_h_2.update(x['V2'])  \n",
    "    \n",
    "    if y_p is not None:\n",
    "        print(metric.update(y_true=y, y_pred=y_p))  \n",
    "        ddm.update(y!=y_p)  # for DDM, 1 means error\n",
    "\n",
    "    warning_detected = (page_h_1.warning_detected or page_h_1.warning_detected or\n",
    "                        ddm.warning_detected)\n",
    "    if warning_detected:\n",
    "        warning = i\n",
    "        print(\"Warning detected at index %s\" % index)\n",
    "    change_detected = (page_h_1.change_detected or page_h_1.change_detected or\n",
    "                        ddm.change_detected)\n",
    "    if change_detected:\n",
    "        if warning != -1:\n",
    "            print(f\"\"\"Warning detected at index \n",
    "                  {warning} and Change detected at index {index}\"\"\")\n",
    "            warnings.append(warning)\n",
    "            warning = -1\n",
    "        else: \n",
    "            print(f'Change detected at index {index}')\n",
    "        drifts.append(index)\n",
    "        page_h_1.reset()\n",
    "        page_h_2.reset()\n",
    "        ddm.reset()\n",
    "        \n",
    "        \n",
    "    model.learn_one(x, y)        # Train the model\n",
    "    \n",
    "    index += 1\n",
    "    "
   ]
  },
  {
   "cell_type": "markdown",
   "id": "943915a2",
   "metadata": {},
   "source": [
    "As time goes by, the model becomes less and less efficient. This makes sense, since the FPCA was performed on the initial samples, and even if the model adapts to new scores, these scores do not corresponds to the true principal components of the data so far.\n",
    "<br>\n",
    "Thus we can suggest that the functional covariance matrix should be updated on a streaming fashion. This is possible since there is an online version for the standard deviation, and concept drift detectors can be used to notify changes in stationarity.\n",
    "<br>\n",
    "We move on to the data used on the paper."
   ]
  },
  {
   "cell_type": "markdown",
   "id": "8c8d93a6",
   "metadata": {},
   "source": [
    "## Ships dataset"
   ]
  },
  {
   "cell_type": "markdown",
   "id": "5dd95684",
   "metadata": {},
   "source": [
    "In this dataset we have:\n",
    "* y: the CO2 emissions of the ship voyage (real number)\n",
    "The functions associated to each voyage, to mention a few are:\n",
    "* Velocity\n",
    "* Acceleration\n",
    "* Power difference between port and starboard propeller shafts\n",
    "* Distance from the nominal route\n",
    "* Longitudinal wind component\n",
    "* Transverse wind component\n",
    "* Air temperature, mean of four engines\n",
    "* Trim\n",
    "* Cumulative sailing time\n",
    "\n",
    "For full detail, the paper can be consulted."
   ]
  },
  {
   "cell_type": "markdown",
   "id": "3d5e4bc3",
   "metadata": {},
   "source": [
    "#### Feature extraction\n",
    "Again with rpy2 the FPCA is performed.\n",
    "<br><br>\n",
    "In this case, 50 principal components are used.\n",
    "<br> <br>\n",
    "As \"training\" or \"under control\" dataset, the first 60 samples are used. This differs from the exact methodology in the paper.\n",
    "<br><br>\n",
    "Moreover, in the paper the principal components are chosen not taking into account their explained variance, but the marginal reduction of sum of squares when regressing CO2.\n",
    "<br><br>\n",
    "To maintain simplicity, in this demonstration, the first 50 are kept. This in a way makes sense, since the chosen model for online learning is a **Hoeffding Regressor** instead of a linear regression.\n",
    "<br><br>\n",
    "The T² and the SPE statistics are obtained as well for the control charts.\n",
    "<br><br>\n",
    "To obtain the control limits, without making any assumptions on their distributions, we use **chebysev's inequality**, which guarantees for **any distribution** that 91% of the data lie within 4 standard deviations from the mean. "
   ]
  },
  {
   "cell_type": "code",
   "execution_count": 59,
   "id": "243aa214",
   "metadata": {},
   "outputs": [
    {
     "name": "stdout",
     "output_type": "stream",
     "text": [
      "<simpleError in if ((all(c(coef1) == 0) || all(c(coef2) == 0))) return(matrix(0,     nrep1, nrep2)): valore mancante dove è richiesto TRUE/FALSE>\n",
      "[1] 292\n",
      "NULL\n"
     ]
    },
    {
     "data": {
      "text/html": [
       "<div>\n",
       "<style scoped>\n",
       "    .dataframe tbody tr th:only-of-type {\n",
       "        vertical-align: middle;\n",
       "    }\n",
       "\n",
       "    .dataframe tbody tr th {\n",
       "        vertical-align: top;\n",
       "    }\n",
       "\n",
       "    .dataframe thead th {\n",
       "        text-align: right;\n",
       "    }\n",
       "</style>\n",
       "<table border=\"1\" class=\"dataframe\">\n",
       "  <thead>\n",
       "    <tr style=\"text-align: right;\">\n",
       "      <th></th>\n",
       "      <th>V1</th>\n",
       "      <th>V2</th>\n",
       "      <th>V3</th>\n",
       "      <th>V4</th>\n",
       "      <th>V5</th>\n",
       "      <th>V6</th>\n",
       "      <th>V7</th>\n",
       "      <th>V8</th>\n",
       "      <th>V9</th>\n",
       "      <th>V10</th>\n",
       "      <th>...</th>\n",
       "      <th>V41</th>\n",
       "      <th>V42</th>\n",
       "      <th>V43</th>\n",
       "      <th>V44</th>\n",
       "      <th>V45</th>\n",
       "      <th>V46</th>\n",
       "      <th>V47</th>\n",
       "      <th>V48</th>\n",
       "      <th>V49</th>\n",
       "      <th>V50</th>\n",
       "    </tr>\n",
       "  </thead>\n",
       "  <tbody>\n",
       "    <tr>\n",
       "      <th>1</th>\n",
       "      <td>1448.945848</td>\n",
       "      <td>8195.794232</td>\n",
       "      <td>-8782.565937</td>\n",
       "      <td>-359.063422</td>\n",
       "      <td>-2419.987608</td>\n",
       "      <td>-387.670084</td>\n",
       "      <td>1575.290640</td>\n",
       "      <td>536.444108</td>\n",
       "      <td>-1223.019862</td>\n",
       "      <td>-660.344083</td>\n",
       "      <td>...</td>\n",
       "      <td>-0.225300</td>\n",
       "      <td>4.587050</td>\n",
       "      <td>9.383228</td>\n",
       "      <td>10.771758</td>\n",
       "      <td>-22.173829</td>\n",
       "      <td>15.082092</td>\n",
       "      <td>22.902950</td>\n",
       "      <td>6.436633</td>\n",
       "      <td>-9.512364</td>\n",
       "      <td>-10.082812</td>\n",
       "    </tr>\n",
       "    <tr>\n",
       "      <th>2</th>\n",
       "      <td>-8585.732124</td>\n",
       "      <td>12936.116898</td>\n",
       "      <td>-705.439455</td>\n",
       "      <td>-4503.375227</td>\n",
       "      <td>-1157.765124</td>\n",
       "      <td>-1165.876457</td>\n",
       "      <td>2924.993581</td>\n",
       "      <td>1457.120734</td>\n",
       "      <td>-1162.856715</td>\n",
       "      <td>-528.536203</td>\n",
       "      <td>...</td>\n",
       "      <td>30.332299</td>\n",
       "      <td>-24.649540</td>\n",
       "      <td>11.532367</td>\n",
       "      <td>-21.069676</td>\n",
       "      <td>-22.535770</td>\n",
       "      <td>-6.306011</td>\n",
       "      <td>-24.226219</td>\n",
       "      <td>11.320717</td>\n",
       "      <td>16.673802</td>\n",
       "      <td>33.902405</td>\n",
       "    </tr>\n",
       "    <tr>\n",
       "      <th>3</th>\n",
       "      <td>-4109.860091</td>\n",
       "      <td>41701.024867</td>\n",
       "      <td>-321.485977</td>\n",
       "      <td>-14551.453123</td>\n",
       "      <td>-11591.486415</td>\n",
       "      <td>-964.984288</td>\n",
       "      <td>6885.011306</td>\n",
       "      <td>2243.926910</td>\n",
       "      <td>5300.082789</td>\n",
       "      <td>2884.358835</td>\n",
       "      <td>...</td>\n",
       "      <td>-1.815579</td>\n",
       "      <td>-26.133303</td>\n",
       "      <td>-3.241323</td>\n",
       "      <td>-5.035083</td>\n",
       "      <td>-0.916408</td>\n",
       "      <td>8.749674</td>\n",
       "      <td>-6.111049</td>\n",
       "      <td>7.089538</td>\n",
       "      <td>-4.118593</td>\n",
       "      <td>2.897189</td>\n",
       "    </tr>\n",
       "    <tr>\n",
       "      <th>4</th>\n",
       "      <td>-6518.211776</td>\n",
       "      <td>-60665.691292</td>\n",
       "      <td>-8895.893979</td>\n",
       "      <td>-16932.786917</td>\n",
       "      <td>-15147.610905</td>\n",
       "      <td>-272.072525</td>\n",
       "      <td>-12312.353149</td>\n",
       "      <td>14.831357</td>\n",
       "      <td>4461.571232</td>\n",
       "      <td>-2188.857141</td>\n",
       "      <td>...</td>\n",
       "      <td>-23.121920</td>\n",
       "      <td>-45.334792</td>\n",
       "      <td>-38.233037</td>\n",
       "      <td>-20.305865</td>\n",
       "      <td>-49.279100</td>\n",
       "      <td>30.406452</td>\n",
       "      <td>-5.780521</td>\n",
       "      <td>32.051355</td>\n",
       "      <td>20.124053</td>\n",
       "      <td>-17.229862</td>\n",
       "    </tr>\n",
       "    <tr>\n",
       "      <th>5</th>\n",
       "      <td>6274.617415</td>\n",
       "      <td>49453.348753</td>\n",
       "      <td>3715.400929</td>\n",
       "      <td>16079.531890</td>\n",
       "      <td>23530.799705</td>\n",
       "      <td>-4610.420319</td>\n",
       "      <td>-6801.131686</td>\n",
       "      <td>-16868.145873</td>\n",
       "      <td>3512.027357</td>\n",
       "      <td>1977.876662</td>\n",
       "      <td>...</td>\n",
       "      <td>-32.618068</td>\n",
       "      <td>-1.596643</td>\n",
       "      <td>6.827028</td>\n",
       "      <td>-3.365046</td>\n",
       "      <td>-0.573945</td>\n",
       "      <td>21.342024</td>\n",
       "      <td>-6.443694</td>\n",
       "      <td>10.548608</td>\n",
       "      <td>5.608319</td>\n",
       "      <td>1.086011</td>\n",
       "    </tr>\n",
       "  </tbody>\n",
       "</table>\n",
       "<p>5 rows × 50 columns</p>\n",
       "</div>"
      ],
      "text/plain": [
       "            V1            V2           V3            V4            V5  \\\n",
       "1  1448.945848   8195.794232 -8782.565937   -359.063422  -2419.987608   \n",
       "2 -8585.732124  12936.116898  -705.439455  -4503.375227  -1157.765124   \n",
       "3 -4109.860091  41701.024867  -321.485977 -14551.453123 -11591.486415   \n",
       "4 -6518.211776 -60665.691292 -8895.893979 -16932.786917 -15147.610905   \n",
       "5  6274.617415  49453.348753  3715.400929  16079.531890  23530.799705   \n",
       "\n",
       "            V6            V7            V8           V9          V10  ...  \\\n",
       "1  -387.670084   1575.290640    536.444108 -1223.019862  -660.344083  ...   \n",
       "2 -1165.876457   2924.993581   1457.120734 -1162.856715  -528.536203  ...   \n",
       "3  -964.984288   6885.011306   2243.926910  5300.082789  2884.358835  ...   \n",
       "4  -272.072525 -12312.353149     14.831357  4461.571232 -2188.857141  ...   \n",
       "5 -4610.420319  -6801.131686 -16868.145873  3512.027357  1977.876662  ...   \n",
       "\n",
       "         V41        V42        V43        V44        V45        V46  \\\n",
       "1  -0.225300   4.587050   9.383228  10.771758 -22.173829  15.082092   \n",
       "2  30.332299 -24.649540  11.532367 -21.069676 -22.535770  -6.306011   \n",
       "3  -1.815579 -26.133303  -3.241323  -5.035083  -0.916408   8.749674   \n",
       "4 -23.121920 -45.334792 -38.233037 -20.305865 -49.279100  30.406452   \n",
       "5 -32.618068  -1.596643   6.827028  -3.365046  -0.573945  21.342024   \n",
       "\n",
       "         V47        V48        V49        V50  \n",
       "1  22.902950   6.436633  -9.512364 -10.082812  \n",
       "2 -24.226219  11.320717  16.673802  33.902405  \n",
       "3  -6.111049   7.089538  -4.118593   2.897189  \n",
       "4  -5.780521  32.051355  20.124053 -17.229862  \n",
       "5  -6.443694  10.548608   5.608319   1.086011  \n",
       "\n",
       "[5 rows x 50 columns]"
      ]
     },
     "execution_count": 59,
     "metadata": {},
     "output_type": "execute_result"
    }
   ],
   "source": [
    "robjects.r('''\n",
    "    library(fda)\n",
    "    load(\"shipsfd.RData\")\n",
    "    \n",
    "    indices_train <- 1:60\n",
    "    # perform the FPCA on the first 60 samples\n",
    "    pca_W.1 <- pca.fd(ships.fd[indices_train],nharm=50,centerfns=TRUE)\n",
    "    \n",
    "    # PREPARE TRAINING SET\n",
    "    \n",
    "    keep_pcs <- 50 # keep scores on up to keep_pcs components\n",
    "    Z <- array(0, c(60,keep_pcs))\n",
    "    for (i in 1:60){\n",
    "      Z[i,] <- apply(pca_W.1$scores[i,1:keep_pcs,], MARGIN = 1, FUN = sum)\n",
    "    }\n",
    "    Z <- as.data.frame(Z)  # done preparing the under control set\n",
    "    rownames(Z) = indices_train    \n",
    "    \n",
    "    # OBTAIN T2 statistic on the training set\n",
    "    SPE <- Z^2 # square element-wise\n",
    "    T2 <- SPE\n",
    "    for ( i in ncol(T2)){\n",
    "      T2[,i] = SPE[,i] / pca_W.1$values[i]\n",
    "    }\n",
    "    T2 <- apply(T2, MARGIN = 1, FUN = sum)\n",
    "    SPE <- apply(SPE, MARGIN = 1, FUN = sum)\n",
    "    # set up upper control limits. 4 sdev for 93.75% of data (CHEBYSEV)\n",
    "    UCL.T2 <- mean(T2) + sd(T2) * 4 \n",
    "    UCL.SPE <- mean(SPE) + sd(SPE) * 4 \n",
    "\n",
    "    # OBTAIN \"ONLINE\" SET\n",
    "    load(\"y_C02_emissions.RData\")\n",
    "    indices_test <- (1:dim(y)[1])[-indices_train]\n",
    "    y_na <- c(292, 508, 705)\n",
    "    y <- y[-y_na, ]\n",
    "    indices_test <- indices_test[-y_na]\n",
    "    Z_test <- array(0, dim = c(length(indices_test), keep_pcs) )\n",
    "    problematic.ships <- NULL\n",
    "    k = 0\n",
    "    for (i in indices_test){\n",
    "      tryCatch({\n",
    "        cur.curve <- ships.fd[ i ]\n",
    "        scores <- predictFPCA(pca_W.1, cur.curve, nharm=50, nvar=18)\n",
    "        Z_test[k, ] = apply(scores[1:keep_pcs,], MARGIN = 1, FUN = sum)\n",
    "        k = k+1\n",
    "      },\n",
    "      error = function(e){\n",
    "        print(e)\n",
    "        problematic.ships <- c(problematic.ships, i)\n",
    "        print(i)\n",
    "      })\n",
    "\n",
    "    }  \n",
    "    Z_test <- as.data.frame(Z_test)\n",
    "    print(problematic.ships)\n",
    "    y <- as.data.frame(y)\n",
    "    \n",
    "''')\n",
    "\n",
    "with localconverter(robjects.default_converter + pandas2ri.converter):\n",
    "    ships_train = robjects.conversion.rpy2py(robjects.r('Z'))\n",
    "    ships_test = robjects.conversion.rpy2py(robjects.r('Z_test'))\n",
    "    UCL_T2 = robjects.conversion.rpy2py(robjects.r('UCL.T2'))\n",
    "    UCL_SPE = robjects.conversion.rpy2py(robjects.r('UCL.SPE'))\n",
    "    y_ships = robjects.conversion.rpy2py(robjects.r('y'))\n",
    "    eigenvals = robjects.conversion.rpy2py(robjects.r('pca_W.1$values'))\n",
    "    \n",
    "ships_train.head()"
   ]
  },
  {
   "cell_type": "markdown",
   "id": "f1e695f3",
   "metadata": {},
   "source": [
    "The sample that failed to be projected with the covariance matrix is taken out."
   ]
  },
  {
   "cell_type": "code",
   "execution_count": 62,
   "id": "17dc9749",
   "metadata": {},
   "outputs": [],
   "source": [
    "y_ships = y_ships[~y_ships.isin(['295'])][:]\n"
   ]
  },
  {
   "cell_type": "code",
   "execution_count": 63,
   "id": "af3bc1ba",
   "metadata": {},
   "outputs": [
    {
     "data": {
      "text/plain": [
       "(951, 2)"
      ]
     },
     "execution_count": 63,
     "metadata": {},
     "output_type": "execute_result"
    }
   ],
   "source": [
    "y_ships.shape"
   ]
  },
  {
   "cell_type": "markdown",
   "id": "a89234fb",
   "metadata": {},
   "source": [
    "For the CUSUM chart, which will be used for the MSE, the class defined at the exercise session is used and modified to keep the long term record for a later plot."
   ]
  },
  {
   "cell_type": "code",
   "execution_count": 64,
   "id": "9189043a",
   "metadata": {},
   "outputs": [],
   "source": [
    "class CUSUM():\n",
    "    def __init__(self,delta,lamb,min_obs):\n",
    "        # Initialization\n",
    "        self._n = 1\n",
    "        self._x_mean = 0.0\n",
    "        self._sum = 0.0\n",
    "        self._delta = delta\n",
    "        self._lambda = lamb\n",
    "        self._min_obs = min_obs\n",
    "        self.warning_detected = False\n",
    "        self.change_detected = False\n",
    "        self.mean_list = list()  # keep track of the mean\n",
    "        self.sum_list = list() # keep track of the cumulative sum\n",
    "        \n",
    "    def update(self,value):\n",
    "        self._x_mean += (value - self._x_mean) / self._n\n",
    "        self.mean_list.append(self._x_mean) # add to mean list\n",
    "        self._sum = max(0, self._sum + value - self._x_mean - self._delta)\n",
    "        self.sum_list.append(self._sum)  # add to sum list\n",
    "        self._n += 1\n",
    "        \n",
    "        if self._n >= self._min_obs and self._sum > self._lambda:\n",
    "            self.change_detected = True\n",
    "        \n",
    "        \n",
    "    def reset(self):\n",
    "        self._n = 1\n",
    "        self._x_mean = 0.0\n",
    "        self._sum = 0.0\n",
    "        self.warning_detected = False\n",
    "        self.change_detected = False"
   ]
  },
  {
   "cell_type": "markdown",
   "id": "a6835122",
   "metadata": {},
   "source": [
    "We first learn on the \"under control\" dataset."
   ]
  },
  {
   "cell_type": "code",
   "execution_count": 65,
   "id": "704c5dcc",
   "metadata": {},
   "outputs": [
    {
     "name": "stdout",
     "output_type": "stream",
     "text": [
      "2276.8482006903196\n",
      "1904.3961432566075\n",
      "1357.9524210645095\n",
      "1236.4857272330469\n",
      "1041.076372475833\n",
      "911.1228307378501\n",
      "826.8098906314249\n",
      "763.1798136144438\n",
      "697.5283686388209\n",
      "627.8865396487282\n",
      "571.4459088774306\n",
      "523.9243394907746\n",
      "486.2598425159102\n",
      "458.07612463047934\n",
      "441.97828598177557\n",
      "415.69508938859485\n",
      "391.99180134672747\n",
      "370.2305453732917\n",
      "352.7264851179194\n",
      "335.8926384611401\n",
      "321.71323346924424\n",
      "308.83326140840705\n",
      "298.6298015562004\n",
      "299.2370836609806\n",
      "288.0459643933316\n",
      "279.92271380164954\n",
      "271.00752746798054\n",
      "262.0061804773578\n",
      "253.0717810764296\n",
      "248.22980264118752\n",
      "173.7890166929775\n",
      "124.2380267227289\n",
      "115.93980871709172\n",
      "87.3138302960893\n",
      "78.68238746573016\n",
      "72.407923474711\n",
      "77.67983284390571\n",
      "67.08777237545132\n",
      "61.4346842344502\n",
      "62.999884809473\n",
      "64.36231911059677\n",
      "64.42209416911608\n",
      "63.38233086620462\n",
      "66.93146094563639\n",
      "60.411535996402186\n",
      "59.752617735898156\n",
      "59.43930367191936\n",
      "59.43309065809401\n",
      "58.25101890362156\n",
      "57.92184674590096\n",
      "60.6041087320373\n",
      "59.3800268976792\n",
      "57.3232582236898\n",
      "47.15005021995482\n",
      "46.65558010384008\n",
      "44.21756273348723\n",
      "43.17226878280034\n",
      "43.20727827297031\n",
      "43.14510264136336\n",
      "39.55200212796452\n"
     ]
    }
   ],
   "source": [
    "from river.tree import HoeffdingTreeRegressor\n",
    "from river import metrics\n",
    "\n",
    "# grace_period: Number of instances a leaf should observe between split attempts.\n",
    "model = preprocessing.StandardScaler() |  HoeffdingTreeRegressor(grace_period = 30) \n",
    "model = preprocessing.StandardScaler() | linear_model.LinearRegression(intercept_lr=.1)\n",
    "\n",
    "metric = Rolling(metrics.MSE(), window_size=30)\n",
    "\n",
    "for x, y in iter_pandas(X=ships_train, y=y_ships.iloc[:60, 1]):\n",
    "    y_p = model.predict_one(x)   # Predict class\n",
    "    if y_p is not None:\n",
    "        print(metric.update(y_true=y, y_pred=y_p).get())\n",
    "    model.learn_one(x, y)        # Train the model"
   ]
  },
  {
   "cell_type": "markdown",
   "id": "f2d1c298",
   "metadata": {},
   "source": [
    "The results make sense, since in the paper a 100 MSE was achieved on the whole dataset."
   ]
  },
  {
   "cell_type": "markdown",
   "id": "6e366e47",
   "metadata": {},
   "source": [
    "We proceed to **online learning**.\n",
    "<br> <br>\n",
    "Page Hinkley CD detectors are used for the first two principal components (chosen just for the demo, the most significant ones could be chosen as well)."
   ]
  },
  {
   "cell_type": "code",
   "execution_count": 66,
   "id": "8f858184",
   "metadata": {},
   "outputs": [
    {
     "data": {
      "text/plain": [
       "4.4319203045233245e+23"
      ]
     },
     "metadata": {},
     "output_type": "display_data"
    },
    {
     "name": "stdout",
     "output_type": "stream",
     "text": [
      "Change detected at index 890\n"
     ]
    }
   ],
   "source": [
    "from IPython.display import display, clear_output\n",
    "\n",
    "from river.drift import PageHinkley\n",
    "from river.drift import DDM\n",
    "\n",
    "# monitor regressors\n",
    "page_h_eigenval_1 = PageHinkley(min_instances=10)\n",
    "page_h_eigenval_2 = PageHinkley(min_instances=10)\n",
    "\n",
    "# monitor classification error\n",
    "cusum = CUSUM(delta=0.005,lamb=50,min_obs=30)\n",
    "\n",
    "warnings = list()\n",
    "drifts = list()\n",
    "T2 = list()\n",
    "SPE = list()\n",
    "warning = -1\n",
    "\n",
    "\n",
    "index = 0\n",
    "for x, y in iter_pandas(X=ships_test, y=y_ships.iloc[60:, 1]):\n",
    "    clear_output(wait=True)\n",
    "    \n",
    "    y_p = model.predict_one(x)   # Predict class\n",
    "    \n",
    "    page_h_1.update(x['V1'])  # update the monitor of the first regressor\n",
    "    page_h_2.update(x['V2'])  \n",
    "    cur_T2 = 0\n",
    "    cur_SPE = 0\n",
    "    k = 0\n",
    "    for p in (x.keys()):\n",
    "        cur_T2 += x[p]**2 / eigenvals[k]\n",
    "        k += 1\n",
    "        cur_SPE += (x[p])**2\n",
    "    T2.append(cur_T2)\n",
    "    SPE.append(cur_SPE)\n",
    "    \n",
    "    \n",
    "    if y_p is not None:\n",
    "        display(metric.update(y_true=y, y_pred=y_p).get())  \n",
    "        ddm.update(y!=y_p)  # for DDM, 1 means error\n",
    "        cusum.update(metric.update(y_true=y, y_pred=y_p).get())\n",
    "\n",
    "    warning_detected = (page_h_1.warning_detected or page_h_1.warning_detected or\n",
    "                        ddm.warning_detected)\n",
    "    if warning_detected:\n",
    "        warning = i\n",
    "        display(\"Warning detected at index %s\" % index)\n",
    "    change_detected = (page_h_1.change_detected or page_h_1.change_detected or\n",
    "                        ddm.change_detected)\n",
    "    if change_detected:\n",
    "        if warning != -1:\n",
    "            display(f\"\"\"Warning detected at index \n",
    "                  {warning} and Change detected at index {index}\"\"\")\n",
    "            warnings.append(warning)\n",
    "            warning = -1\n",
    "        else: \n",
    "            print(f'Change detected at index {index}')\n",
    "        drifts.append(index)\n",
    "        \n",
    "    model.learn_one(x, y)        # Train the model\n",
    "    \n",
    "    index += 1\n",
    "    "
   ]
  },
  {
   "cell_type": "markdown",
   "id": "3820e7fe",
   "metadata": {},
   "source": [
    "## Control charts"
   ]
  },
  {
   "cell_type": "code",
   "execution_count": 57,
   "id": "e5113fa1",
   "metadata": {},
   "outputs": [],
   "source": [
    " from matplotlib import pyplot as plt"
   ]
  },
  {
   "cell_type": "markdown",
   "id": "0df8d4ca",
   "metadata": {},
   "source": [
    "### CUSUM (MSE monitoring)\n",
    "We observe it diverges, so every 30 data there is a change detected.\n",
    "<br>\n",
    "The divergence is likely to happen for the same reason as for the CanadaWeather example: the covariance matrix estimate is not updated, and thus the projections are more and more uncertain. "
   ]
  },
  {
   "cell_type": "code",
   "execution_count": 58,
   "id": "aa2d6c4c",
   "metadata": {},
   "outputs": [
    {
     "data": {
      "image/png": "[encoded data removed]",
      "text/plain": [
       "<Figure size 432x288 with 1 Axes>"
      ]
     },
     "metadata": {
      "needs_background": "light"
     },
     "output_type": "display_data"
    }
   ],
   "source": [
    "ndata = 30\n",
    "plt.plot(cusum.mean_list[:ndata], label= \"mean\")\n",
    "plt.plot(cusum.sum_list[:ndata], label= \"cumulative sum\")\n",
    "plt.legend()\n",
    "plt.show()"
   ]
  },
  {
   "cell_type": "markdown",
   "id": "3e4fc511",
   "metadata": {},
   "source": [
    "### T² Control chart\n",
    "\n",
    "Here we recall the upper control limit was obtained via **chebysev inequality** and the training (or under control) data set.\n",
    "<br>\n",
    "The high UCL value for T2 shows the high variance in the estimate of the covariance matrix."
   ]
  },
  {
   "cell_type": "code",
   "execution_count": 81,
   "id": "cd803d82",
   "metadata": {},
   "outputs": [
    {
     "data": {
      "image/png": "[encoded data removed]",
      "text/plain": [
       "<Figure size 432x288 with 1 Axes>"
      ]
     },
     "metadata": {
      "needs_background": "light"
     },
     "output_type": "display_data"
    }
   ],
   "source": [
    "plt.plot(T2, label='T2')\n",
    "plt.axhline(y=UCL_T2, color='r', linestyle='-')\n",
    "plt.show()"
   ]
  },
  {
   "cell_type": "markdown",
   "id": "10a50261",
   "metadata": {},
   "source": [
    "## SPE control chart"
   ]
  },
  {
   "cell_type": "code",
   "execution_count": 80,
   "id": "4f40f881",
   "metadata": {},
   "outputs": [
    {
     "data": {
      "image/png": "[encoded data removed]",
      "text/plain": [
       "<Figure size 432x288 with 1 Axes>"
      ]
     },
     "metadata": {
      "needs_background": "light"
     },
     "output_type": "display_data"
    }
   ],
   "source": [
    "plt.plot(SPE, label='T2')\n",
    "plt.axhline(y=UCL_SPE, color='r', linestyle='-')\n",
    "plt.show()"
   ]
  },
  {
   "cell_type": "markdown",
   "id": "7af94104",
   "metadata": {},
   "source": [
    "## Conclusion and proposals.\n",
    "### Conclusion\n",
    "With this project, we have seen how functional data analysis could be incorporated not only in the anomaly detection (control charts) setting as it was done in the original paper.\n",
    "<br>\n",
    "It can also be extended to the **Streaming machine learning** setting, where a model that is not necessarily a **Linear regression** can be used: in this case, a **Hoeffding tree** was used both for classification and regression, using the features of FPCA. \n",
    "\n",
    "### Proposals\n",
    "In both examples it is shown that the new samples, which were not used in the FPCA have more and more uncertain values in their scores. This is confirmed by the fact that even within the \"training\" set the control limits were extremely high.\n",
    "<br>\n",
    "This is due to the fact a covariance matrix for 18 dimensions of functional data, with 100 bases for smoothing and 50 principal components are being estimated with 60 samples.\n",
    "<br>\n",
    "The main proposal would thus be an **online version** of the **FPCA**, which can of course be obtained \n",
    "<br> Further dimensionality reduction techniques such as **functional depth measures** could be incorporated as well in the feature extraction.\n",
    "<br><br>\n",
    "### The most important realization of this project \n",
    "In addition, with the use of **concept drift tools**, if the FPCA covariance matrix is being updated, when there is a **warning**, **samples could be kept apart** to obtain **a new FPCA covariance matrix**. This keeping-apart of samples, thanks to the properties of the FPCA could be supported theoretically (just like the Hoeffding bound) thanks to its properties, and in my opinion should be further investigated.\n",
    "\n"
   ]
  }
 ],
 "metadata": {
  "kernelspec": {
   "display_name": "Python 3",
   "language": "python",
   "name": "python3"
  },
  "language_info": {
   "codemirror_mode": {
    "name": "ipython",
    "version": 3
   },
   "file_extension": ".py",
   "mimetype": "text/x-python",
   "name": "python",
   "nbconvert_exporter": "python",
   "pygments_lexer": "ipython3",
   "version": "3.6.15"
  }
 },
 "nbformat": 4,
 "nbformat_minor": 5
}
