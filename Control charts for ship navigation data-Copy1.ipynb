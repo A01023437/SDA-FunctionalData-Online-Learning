{
 "cells": [
  {
   "cell_type": "markdown",
   "id": "5d2d36d1",
   "metadata": {},
   "source": [
    "**Author: Alfredo Gimenez Zapiola**\n",
    "## Functional Data Analysis meets Streaming Machine Learning\n",
    "\n",
    "In this project, I intend to do both a **knowledge sharing** of a [paper](https://onlinelibrary.wiley.com/doi/full/10.1002/qre.2949) co-authored by Prof. Vantini of Nonparametric Statistics, as well as an **integration** with the contents studied at the Streaming Data Analytics (SDA) (Prof. Della Valle) course.\n",
    "<br><br>\n",
    "<ins> Citation of the paper:</ins> Capezza, C, Centofanti, F, Lepore, A, Menafoglio, A, Palumbo, B, Vantini, S. Functional regression control chart for monitoring ship CO2 emissions. Qual Reliab Eng Int. 2021; 1– 19. https://doi.org/10.1002/qre.2949\n",
    "#### What the paper is about\n",
    "<ins> Functional regression control chart for monitoring ship CO2 emissions </ins> \n",
    "<br>\n",
    "The paper presents a **supervised learning problem**. The target variable are the total CO2 emissions of ship trips, whereas the covariates are functions, such as the acceleration along the whole time of the voyage, the velocity, etc.\n",
    "<br>\n",
    "There are two main **takeaways** for the Streaming Machine Learning setting:\n",
    " * We can **extract numerical features** from the functions performing a **principal component analysis** on the functions. The scores (scalar) of each trip on the principal components are the features used to perform learning.\n",
    " <br>\n",
    " * Thanks to mathematical properties of the L2 Hilbert space (a space of functions) and of linear regression, not only the prediction error can be monitored, but also the scores. In other words, **anomaly detection** is performed both on the **target variable** and on the **predicting variables** with **control charts**.\n",
    " \n",
    "#### The contributions of this project\n",
    "1. A **demo** of how state-of-the-art functional analysis techniques can be used not only in the Machine Learning but in the Streaming Machine Learning setting for **feature extraction**.\n",
    "2. A new **methodology** which incorproates the SDA topics, such that Functional Data Analysis techniques can also be used for **Concept Drift** detection as well as in the **Streaming Machine Learning setting**.\n",
    "\n",
    "\n",
    "## Index\n",
    "\n",
    "### I.  Theoretical Framework & Methodology\n",
    " The basics of the quoted paper are explained. \n",
    "\n",
    "### II.  Canada Weather Dataset.\n",
    "  A very well-known and simple functional dataset is used to show a basic demonstration.\n",
    " <br>\n",
    "  In this case, it is a classification problem, with the **temperature** and **humidity** across time functions are the covariate, and the **type of station** is the label to be predicted. \n",
    "\n",
    "### III. Ships dataset\n",
    "  The dataset originally used on the paper is utilised, applying **Concept Drift Detectors** and showing how it can be used on streaming machine learnign with **Hoeffding Tree Regressors**."
   ]
  },
  {
   "cell_type": "markdown",
   "id": "cb597ec6",
   "metadata": {},
   "source": [
    "### I.  Theoretical Framework & Methodology\n",
    "\n",
    "####  I. Covariates.\n",
    "##### What it means to have functions as covariates\n",
    " The regressors are functions assumed to belong to $L^2(\\Omega) $, where $\\Omega$ the domain of the function, in these applications a finite (and hence compact) subset of $\\mathbb{R}$.\n",
    " <br> Belonging to $L^2(\\Omega) $ means that $\\int_{\\Omega} {|f(t)|}^2 dt < + \\infty$\n",
    " <br>\n",
    " <br>\n",
    " A special property of $L^2(\\Omega) $, in contrast with $L^p(\\Omega) $ for any other $p$, is that is is a **Hilbert space**, hence it has a dot product.\n",
    " \n",
    "##### The samples in the supervised learning setting.\n",
    " In addition, we may have, for every sample of data, not only one function (say that of acceleration), but many (also the velocity, the wind, temperature, etc.)\n",
    " <br>\n",
    " Hence we can represent the dataset in the following way: \n",
    " $(y_i, \\mathbf{X_i})_{i \\in N}$\n",
    " where: <br>\n",
    "  * $N$ is the cardinality of the dataset\n",
    "  * $\\mathbf{X_i} = (X_{i1}, X_{i2},  X_{ip})_{p \\in P}$ where P is the number of dimensions, and each X_p is a function defined on $\\Omega$ that measures something related to the sample (acceleration, temperature, etc). $\\mathbf{X_i}$ is thus a random element with each dimension taking values in  $L^2(\\Omega) $.\n",
    "  * $y_i$ is what we want to predict; can be a label (Canada Weather dataset) or a real number (Ships dataset)\n",
    " \n",
    "#### II. Feature extraction\n",
    "##### 1.  <ins> Smoothing </ins>\n",
    "<br>\n",
    " The covariates, insofar they are functions, are infinite-dimensional. However, we do not have infinite-dimensional measurements but discretised ones. \n",
    "<br>\n",
    "  Therefore, to get the functions, different a basis (Fourier, B-Spline) is chosen to perform the smoothing, using the measurements to find the optimal coefficients, such that the functions are expressed as a linear combination of the basis.  (see the canada weather dataset for a visual demonstration)\n",
    "<br>\n",
    "\n",
    "##### 2.  <ins> Spectral decomposition </ins>\n",
    "<br>\n",
    "As mentioned before, the main feature of $L^2(\\Omega) $ is that is bestowed with a dot product. This means a **spectral decomposition**, the **Functional PCA** can be performed.\n",
    "<br>\n",
    "The detailed description and mathematical formulation can be found in the paper. The key takeaway is that the the **covariance operator is approximated with a discretized version** , and the **spectral decomposition** is obtained using it in the same way as in classical machine learning.\n",
    "<br>\n",
    "It is important to know that the number of principal components obtained is $n - 1$, where n is the number of samples used for the calculation.\n",
    "<br>\n",
    "Just like in the usual setting, the functions have to be standardized before performing the PCA, so the mean and variance of the functions is estimated as well.\n",
    "    \n",
    "<br>\n",
    "\n",
    "##### 3. <ins> Scores </ins>\n",
    "<br>\n",
    "Once the spectral decomposition has been done, the scores on the PCs can be obtained.\n",
    "<br>\n",
    "The score on the $m$th dimension on the $i$th sample is given by: <br>\n",
    "$\\xi_{mi} = \\langle {\\mathbf{X_i}, \\mathbf{\\Psi_m}} \\rangle _\\mathbb{H} = \\sum_{p=1}^{P}\\langle {X_{ip},\\Psi_{mp}} \\rangle _\\mathbb{H} \\forall i \\in N, \\forall m \\in {1, ..., M}$\n",
    "<br> \n",
    "where \n",
    "<br>\n",
    "$p$ is the index of each dimension\n",
    "<br>\n",
    "$M$ is the number of principal components we extract from the spectral decomposition\n",
    "<br>\n",
    "$\\langle {.,.} \\rangle _\\mathbb{H}$ is the dot product in the Hilbert Space $\\mathbb{H}$\n",
    "\n",
    "In the paper, the selection of the number of the components is not only based on the scree plot, but also on the PRESS statistic. \n",
    "\n",
    "####  III. Phase I and Phase II \n",
    "The paper explaines two phases in the methodology:\n",
    "\n",
    "##### Phase 1. Model estimation\n",
    "\n",
    "* An under-control sample is used to estimate the PCA, and fits a regression on the target variable using the scores as covariates.\n",
    "\n",
    "* The distributions of the T² statistic and of the SPE statistic are used to obtain the control limits to use in the control charts.\n",
    "The T² statistic of the $i$th sample is: <br>\n",
    "$T^2_i :=  \\sum_{m \\in M} \\frac{(\\hat{\\xi_{mi}})^2} {\\hat{\\lambda_m}}$\n",
    "<br> <br>\n",
    "with ${\\hat{\\lambda_m}}$ the $m$th eigenvalue. \n",
    "<br> <br>\n",
    "and the SPE on the $i$th unit is:\n",
    "<br> <br>\n",
    "$SPE_i :=  \\sum_{m \\in M} (\\hat{\\xi_{mi}})^2 $\n",
    "\n",
    "\n",
    "##### Phase 2. Monitoring of multivariate functional covariates and scalar response\n",
    "\n",
    "* The regression is used to predict on new samples, and the scores of the new samples are used to obtain the T² and SPE statistics. \n",
    "* The control charts are updated online with the statistics and using the previously estimated control limits."
   ]
  },
  {
   "cell_type": "markdown",
   "id": "118800dc",
   "metadata": {},
   "source": [
    "### II.  Canada Weather Dataset.\n",
    "* Target variable: the type of station (0, 1, 2, 3)\n",
    "* Covariates: temperature, humidity, log(humidity) along time for a year\n",
    "* 35 samples"
   ]
  },
  {
   "cell_type": "code",
   "execution_count": 140,
   "id": "6e221a5f",
   "metadata": {},
   "outputs": [],
   "source": [
    "# scikit-fda\n",
    "import skfda"
   ]
  },
  {
   "cell_type": "markdown",
   "id": "7f91133b",
   "metadata": {},
   "source": [
    "Just like in the paper, we select a \"training set\", which is a set we believe to be under statistical control, to perform the FPCA. From the FPCA we can obtain the scores on new data.\n",
    "<br>\n",
    "We perform a random train test split for the sake of this exercise.\n",
    "<br>\n",
    "The plots are the following:\n",
    "* Temperature along time (each colour is a label)\n",
    "* Smoothed temperature along time"
   ]
  },
  {
   "cell_type": "code",
   "execution_count": 141,
   "id": "a1ace8fe",
   "metadata": {},
   "outputs": [
    {
     "name": "stderr",
     "output_type": "stream",
     "text": [
      " /home/alfredo/PycharmProjects/SDA-Functional-Control-Charts/venv/lib/python3.6/site-packages/skfda/datasets/_real_datasets.py:817: VisibleDeprecationWarning:Creating an ndarray from ragged nested sequences (which is a list-or-tuple of lists-or-tuples-or ndarrays with different lengths or shapes) is deprecated. If you meant to do this, you must specify 'dtype=object' when creating the ndarray\n"
     ]
    },
    {
     "data": {
      "image/png": "[encoded data removed]",
      "text/plain": [
       "<Figure size 432x288 with 1 Axes>"
      ]
     },
     "metadata": {
      "needs_background": "light"
     },
     "output_type": "display_data"
    },
    {
     "data": {
      "image/png": "[encoded data removed]",
      "text/plain": [
       "<Figure size 432x288 with 1 Axes>"
      ]
     },
     "metadata": {
      "needs_background": "light"
     },
     "output_type": "display_data"
    }
   ],
   "source": [
    "\n",
    "import matplotlib.pyplot as plt\n",
    "from sklearn.model_selection import (train_test_split, GridSearchCV,\n",
    "                                     StratifiedShuffleSplit)\n",
    "\n",
    "X, y = skfda.datasets.fetch_weather(return_X_y=True) # retrieve the dataset\n",
    "X = X.data_matrix[:, :, 0]\n",
    "# cast to an FD object\n",
    "X = skfda.FDataGrid(data_matrix=X, grid_points=range(365))\n",
    "# perform train test split\n",
    "X_train, X_test, y_train, y_test, indtrain, indtest =(\n",
    "    train_test_split(X, y, range(X.shape[0]), test_size=0.60,\n",
    "                                                    stratify=y, random_state=0))\n",
    "# a Fourier basis used for the smoothing\n",
    "basis = skfda.representation.basis.Fourier(n_basis=109)\n",
    "X_basis = X_train.to_basis(basis)\n",
    "X_basis_t = X_test.to_basis(basis)\n",
    "\n",
    "X_train.plot(group=y_train)\n",
    "X_basis.plot(group=y_train)\n",
    "plt.show()"
   ]
  },
  {
   "cell_type": "markdown",
   "id": "ccfc1c92",
   "metadata": {},
   "source": [
    "We print the test set indices."
   ]
  },
  {
   "cell_type": "code",
   "execution_count": 142,
   "id": "51c4e5ed",
   "metadata": {},
   "outputs": [
    {
     "data": {
      "text/plain": [
       "[30, 16, 29, 32, 28, 24, 12, 3, 7, 10, 21, 27, 22, 15, 11, 2, 31, 14, 5, 33, 0]"
      ]
     },
     "execution_count": 142,
     "metadata": {},
     "output_type": "execute_result"
    }
   ],
   "source": [
    "indtest"
   ]
  },
  {
   "cell_type": "markdown",
   "id": "1bb3de96",
   "metadata": {},
   "source": [
    "The FPCA is done in the **fda** library in R. To use python as in the Streaming Machine Learning courses (and in real-world applications, like lambda functions in Amazon Web Services), we use the library **rpy2** which allows to do an R instance in Python.\n",
    "<br>\n",
    "Moreover, a custom function, namely **predictFPCA** is written to obtain the scores of new functions (note this option is not available in the fda library so I had to code it myself)."
   ]
  },
  {
   "cell_type": "code",
   "execution_count": 143,
   "id": "8b1a834f",
   "metadata": {},
   "outputs": [
    {
     "name": "stdout",
     "output_type": "stream",
     "text": [
      " [1]  2  3  5  7 10 11 12 14 15 16 21 22 24 27 28 29 30 31 32 33 35\n"
     ]
    },
    {
     "data": {
      "text/html": [
       "<div>\n",
       "<style scoped>\n",
       "    .dataframe tbody tr th:only-of-type {\n",
       "        vertical-align: middle;\n",
       "    }\n",
       "\n",
       "    .dataframe tbody tr th {\n",
       "        vertical-align: top;\n",
       "    }\n",
       "\n",
       "    .dataframe thead th {\n",
       "        text-align: right;\n",
       "    }\n",
       "</style>\n",
       "<table border=\"1\" class=\"dataframe\">\n",
       "  <thead>\n",
       "    <tr style=\"text-align: right;\">\n",
       "      <th></th>\n",
       "      <th>V1</th>\n",
       "      <th>V2</th>\n",
       "      <th>V3</th>\n",
       "      <th>V4</th>\n",
       "    </tr>\n",
       "  </thead>\n",
       "  <tbody>\n",
       "    <tr>\n",
       "      <th>9</th>\n",
       "      <td>72.706262</td>\n",
       "      <td>69.563374</td>\n",
       "      <td>-10.763957</td>\n",
       "      <td>-3.479456</td>\n",
       "    </tr>\n",
       "    <tr>\n",
       "      <th>23</th>\n",
       "      <td>-8.660909</td>\n",
       "      <td>-15.050356</td>\n",
       "      <td>21.431621</td>\n",
       "      <td>-13.049428</td>\n",
       "    </tr>\n",
       "    <tr>\n",
       "      <th>26</th>\n",
       "      <td>177.206028</td>\n",
       "      <td>37.156911</td>\n",
       "      <td>26.041769</td>\n",
       "      <td>2.941476</td>\n",
       "    </tr>\n",
       "    <tr>\n",
       "      <th>20</th>\n",
       "      <td>-15.167206</td>\n",
       "      <td>-40.915000</td>\n",
       "      <td>9.380945</td>\n",
       "      <td>-4.343573</td>\n",
       "    </tr>\n",
       "    <tr>\n",
       "      <th>4</th>\n",
       "      <td>106.976402</td>\n",
       "      <td>41.714564</td>\n",
       "      <td>-8.337847</td>\n",
       "      <td>-3.132779</td>\n",
       "    </tr>\n",
       "    <tr>\n",
       "      <th>17</th>\n",
       "      <td>-26.538445</td>\n",
       "      <td>-47.124274</td>\n",
       "      <td>-7.189573</td>\n",
       "      <td>-2.037762</td>\n",
       "    </tr>\n",
       "    <tr>\n",
       "      <th>25</th>\n",
       "      <td>118.445192</td>\n",
       "      <td>-34.217252</td>\n",
       "      <td>35.984706</td>\n",
       "      <td>-0.798111</td>\n",
       "    </tr>\n",
       "    <tr>\n",
       "      <th>19</th>\n",
       "      <td>-193.155653</td>\n",
       "      <td>40.376843</td>\n",
       "      <td>-4.248008</td>\n",
       "      <td>-24.151646</td>\n",
       "    </tr>\n",
       "    <tr>\n",
       "      <th>1</th>\n",
       "      <td>72.706262</td>\n",
       "      <td>69.563374</td>\n",
       "      <td>-10.763957</td>\n",
       "      <td>-3.948534</td>\n",
       "    </tr>\n",
       "    <tr>\n",
       "      <th>18</th>\n",
       "      <td>-73.807478</td>\n",
       "      <td>-30.232159</td>\n",
       "      <td>-1.205404</td>\n",
       "      <td>-7.792184</td>\n",
       "    </tr>\n",
       "    <tr>\n",
       "      <th>8</th>\n",
       "      <td>0.446762</td>\n",
       "      <td>-15.692021</td>\n",
       "      <td>-24.584663</td>\n",
       "      <td>3.249578</td>\n",
       "    </tr>\n",
       "    <tr>\n",
       "      <th>6</th>\n",
       "      <td>52.628520</td>\n",
       "      <td>0.941124</td>\n",
       "      <td>-19.030691</td>\n",
       "      <td>11.044635</td>\n",
       "    </tr>\n",
       "    <tr>\n",
       "      <th>34</th>\n",
       "      <td>-248.177119</td>\n",
       "      <td>29.632015</td>\n",
       "      <td>25.433827</td>\n",
       "      <td>27.403470</td>\n",
       "    </tr>\n",
       "    <tr>\n",
       "      <th>13</th>\n",
       "      <td>51.613552</td>\n",
       "      <td>-25.703701</td>\n",
       "      <td>-19.381460</td>\n",
       "      <td>12.457203</td>\n",
       "    </tr>\n",
       "  </tbody>\n",
       "</table>\n",
       "</div>"
      ],
      "text/plain": [
       "            V1         V2         V3         V4\n",
       "9    72.706262  69.563374 -10.763957  -3.479456\n",
       "23   -8.660909 -15.050356  21.431621 -13.049428\n",
       "26  177.206028  37.156911  26.041769   2.941476\n",
       "20  -15.167206 -40.915000   9.380945  -4.343573\n",
       "4   106.976402  41.714564  -8.337847  -3.132779\n",
       "17  -26.538445 -47.124274  -7.189573  -2.037762\n",
       "25  118.445192 -34.217252  35.984706  -0.798111\n",
       "19 -193.155653  40.376843  -4.248008 -24.151646\n",
       "1    72.706262  69.563374 -10.763957  -3.948534\n",
       "18  -73.807478 -30.232159  -1.205404  -7.792184\n",
       "8     0.446762 -15.692021 -24.584663   3.249578\n",
       "6    52.628520   0.941124 -19.030691  11.044635\n",
       "34 -248.177119  29.632015  25.433827  27.403470\n",
       "13   51.613552 -25.703701 -19.381460  12.457203"
      ]
     },
     "execution_count": 143,
     "metadata": {},
     "output_type": "execute_result"
    }
   ],
   "source": [
    "import rpy2.robjects as robjects\n",
    "from rpy2.robjects.conversion import localconverter\n",
    "from rpy2.robjects import pandas2ri\n",
    "robjects.r('''\n",
    "    library(fda) # load the library\n",
    "    \n",
    "    indices_train <- c(9, 23, 26, 20, 4, 17, 25, 19, 1, 18, 8, 6, 34, 13)\n",
    "    data_W <- CanadianWeather$dailyAv \n",
    "    time <- 1:365\n",
    "    basis.3 <- create.fourier.basis(rangeval=c(0,365),nbasis=109)\n",
    "    \n",
    "    # cast the data to fd object\n",
    "    data_W.fd.3 <- Data2fd(y = data_W,argvals = time,basisobj = basis.3)\n",
    "    \n",
    "    # carry out the functional pca\n",
    "    pca_W.1 <- pca.fd(data_W.fd.3[indices_train],nharm=25,centerfns=T)\n",
    "    \n",
    "    # PREPARE TRAINING SET\n",
    "    \n",
    "    i <- indices_train[1]\n",
    "    Z <- cbind(pca_W.1$scores[i, 1:4, 1], pca_W.1$scores[i, 1:4, 2], pca_W.1$scores[i, 1:4, 3])\n",
    "    Z <- apply(Z, MARGIN = 1, FUN = sum) \n",
    "    for (i in 2:length(indices_train)){\n",
    "          aux <- cbind(pca_W.1$scores[i, 1:4, 1], pca_W.1$scores[i, 1:4, 2], \n",
    "                  pca_W.1$scores[i, 1:3, 3])\n",
    "          Z <- rbind(Z, apply(aux, MARGIN = 1, FUN = sum))\n",
    "    }\n",
    "    Z <- as.data.frame(Z)\n",
    "    rownames(Z) = indices_train\n",
    "    \n",
    "    ### PREDICT SCORES ON NEW FUNCTIONAL SAMPLE\n",
    "    predictFPCA <- function(pca_obj, fdobj, nharm=25, nvar=3){\n",
    "      # Center (crucial!)\n",
    "      fdobj$coefs <- fdobj$coefs - pca_obj$meanfd$coefs[,1,]\n",
    "\n",
    "      harmscr  <- array(0, c(nharm, nvar))\n",
    "      coefarray <- fdobj$coefs\n",
    "      harmcoefarray <- (pca_obj$harmonics)$coefs\n",
    "      basisobj <- fdobj$basis\n",
    "      for (j in 1:nvar) {\n",
    "        fdobjj  <- fd(as.matrix(coefarray[,j]), basisobj)\n",
    "        harmfdj <- fd(as.matrix(harmcoefarray[,,j]), basisobj)\n",
    "        harmscr[,j] <- inprod(fdobjj, harmfdj)\n",
    "      }\n",
    "      return (harmscr)\n",
    "    }\n",
    "\n",
    "    # PREPARE TEST SET \n",
    "    # define the custom function\n",
    "    test_ind <- (1:dim(data_W)[2])[-indices_train]\n",
    "    print(test_ind)\n",
    "    Z_test <- array(0, c(length(test_ind), 6))\n",
    "    for (i in 1:length(test_ind)){\n",
    "      cur.curve <- data_W.fd.3[ test_ind[i] ]\n",
    "      scores <- predictFPCA(pca_W.1, cur.curve, nharm=25, nvar=3)\n",
    "      Z_test[i, ] = apply(scores[1:6,], MARGIN = 1, FUN = sum)\n",
    "    }\n",
    "\n",
    "    Z_test <- as.data.frame(Z_test)\n",
    "    rownames(Z_test) <- test_ind\n",
    "    \n",
    "    \n",
    "''')\n",
    "# convert the R objects to python objects\n",
    "with localconverter(robjects.default_converter + pandas2ri.converter):\n",
    "    X_train = robjects.conversion.rpy2py(robjects.r('Z'))\n",
    "    X_test = robjects.conversion.rpy2py(robjects.r('Z_test'))\n",
    "X_train\n"
   ]
  },
  {
   "cell_type": "markdown",
   "id": "452fa00b",
   "metadata": {},
   "source": [
    "Above we see the dataframe of the training dataset. The first four components were kept. "
   ]
  },
  {
   "cell_type": "markdown",
   "id": "4ee37a77",
   "metadata": {},
   "source": [
    "Now, the Streaming Machine Learning pipeline is set up. Having in total 35 samples, a rolling window of 5 samples is used for the accuracy.\n",
    "<br>\n",
    "The chosen model is the multinomial regression, with a standard scaler for the features"
   ]
  },
  {
   "cell_type": "code",
   "execution_count": 144,
   "id": "298f3a50",
   "metadata": {},
   "outputs": [],
   "source": [
    "from river.metrics import Rolling, Accuracy\n",
    "# from river.tree import HoeffdingTreeClassifier\n",
    "from river.stream import iter_pandas\n",
    "from river import linear_model\n",
    "from river import preprocessing\n",
    "\n",
    "\n",
    "metric = Rolling(Accuracy(), window_size=5)\n",
    "# model = HoeffdingTreeClassifier()\n",
    "model = preprocessing.StandardScaler()  # important to standardize\n",
    "model |= linear_model.SoftmaxRegression()\n"
   ]
  },
  {
   "cell_type": "code",
   "execution_count": 145,
   "id": "45da12ba",
   "metadata": {},
   "outputs": [
    {
     "name": "stdout",
     "output_type": "stream",
     "text": [
      "Accuracy: 0.00%\t(rolling 5)\n",
      "Accuracy: 0.00%\t(rolling 5)\n",
      "Accuracy: 33.33%\t(rolling 5)\n",
      "Accuracy: 50.00%\t(rolling 5)\n",
      "Accuracy: 60.00%\t(rolling 5)\n",
      "Accuracy: 80.00%\t(rolling 5)\n",
      "Accuracy: 100.00%\t(rolling 5)\n",
      "Accuracy: 100.00%\t(rolling 5)\n",
      "Accuracy: 100.00%\t(rolling 5)\n",
      "Accuracy: 100.00%\t(rolling 5)\n",
      "Accuracy: 100.00%\t(rolling 5)\n",
      "Accuracy: 80.00%\t(rolling 5)\n",
      "Accuracy: 80.00%\t(rolling 5)\n"
     ]
    }
   ],
   "source": [
    "import pandas as pd\n",
    "# training set:\n",
    "for x, y in iter_pandas(X=X_train, y=pd.Series(y_train)):\n",
    "    y_p = model.predict_one(x)   # Predict class\n",
    "    if y_p is not None:\n",
    "        print(metric.update(y_true=y, y_pred=y_p))\n",
    "    model.learn_one(x, y)        # Train the model\n"
   ]
  },
  {
   "cell_type": "markdown",
   "id": "af6fc892",
   "metadata": {},
   "source": [
    "We observe the model learns quite well. \n",
    "<br>\n",
    "We move on to the \"online\" set. Here it is called test set, but it will be equivalent to the samples that arrive real time.\n",
    "<br>\n",
    "The following is carried out:\n",
    "* Page Hinkley Concept Drift detectors for the first 2 covariates: the scores on the first and second principal component\n",
    "* a DDM for the classification error"
   ]
  },
  {
   "cell_type": "code",
   "execution_count": 146,
   "id": "6b4dee31",
   "metadata": {},
   "outputs": [
    {
     "name": "stdout",
     "output_type": "stream",
     "text": [
      "Accuracy: 60.00%\t(rolling 5)\n",
      "Accuracy: 40.00%\t(rolling 5)\n",
      "Accuracy: 20.00%\t(rolling 5)\n",
      "Accuracy: 20.00%\t(rolling 5)\n",
      "Accuracy: 0.00%\t(rolling 5)\n",
      "Accuracy: 0.00%\t(rolling 5)\n",
      "Accuracy: 20.00%\t(rolling 5)\n",
      "Accuracy: 40.00%\t(rolling 5)\n",
      "Accuracy: 60.00%\t(rolling 5)\n",
      "Change detected at index 8\n",
      "Accuracy: 60.00%\t(rolling 5)\n",
      "Accuracy: 60.00%\t(rolling 5)\n",
      "Accuracy: 40.00%\t(rolling 5)\n",
      "Accuracy: 20.00%\t(rolling 5)\n",
      "Accuracy: 0.00%\t(rolling 5)\n",
      "Accuracy: 0.00%\t(rolling 5)\n",
      "Accuracy: 0.00%\t(rolling 5)\n",
      "Accuracy: 20.00%\t(rolling 5)\n",
      "Accuracy: 20.00%\t(rolling 5)\n",
      "Change detected at index 17\n",
      "Accuracy: 20.00%\t(rolling 5)\n",
      "Accuracy: 20.00%\t(rolling 5)\n",
      "Accuracy: 20.00%\t(rolling 5)\n"
     ]
    }
   ],
   "source": [
    "# test set:\n",
    "# control charts too\n",
    "from river.drift import PageHinkley\n",
    "from river.drift import DDM\n",
    "\n",
    "# monitor regressors\n",
    "page_h_1 = PageHinkley(min_instances=10)\n",
    "page_h_2 = PageHinkley(min_instances=10)\n",
    "\n",
    "# monitor classification error\n",
    "ddm = DDM()\n",
    "\n",
    "warnings = list()\n",
    "drifts = list()\n",
    "warning = -1\n",
    "\n",
    "\n",
    "index = 0\n",
    "for x, y in iter_pandas(X=X_test, y=pd.Series(y_test)):\n",
    "    \n",
    "    y_p = model.predict_one(x)   # Predict class\n",
    "    \n",
    "    page_h_1.update(x['V1'])  # update the monitor of the first regressor\n",
    "    page_h_2.update(x['V2'])  \n",
    "    \n",
    "    if y_p is not None:\n",
    "        print(metric.update(y_true=y, y_pred=y_p))  \n",
    "        ddm.update(y!=y_p)  # for DDM, 1 means error\n",
    "\n",
    "    warning_detected = (page_h_1.warning_detected or page_h_1.warning_detected or\n",
    "                        ddm.warning_detected)\n",
    "    if warning_detected:\n",
    "        warning = i\n",
    "        print(\"Warning detected at index %s\" % index)\n",
    "    change_detected = (page_h_1.change_detected or page_h_1.change_detected or\n",
    "                        ddm.change_detected)\n",
    "    if change_detected:\n",
    "        if warning != -1:\n",
    "            print(f\"\"\"Warning detected at index \n",
    "                  {warning} and Change detected at index {index}\"\"\")\n",
    "            warnings.append(warning)\n",
    "            warning = -1\n",
    "        else: \n",
    "            print(f'Change detected at index {index}')\n",
    "        drifts.append(index)\n",
    "        page_h_1.reset()\n",
    "        page_h_2.reset()\n",
    "        ddm.reset()\n",
    "        \n",
    "        \n",
    "    model.learn_one(x, y)        # Train the model\n",
    "    \n",
    "    index += 1\n",
    "    "
   ]
  },
  {
   "cell_type": "markdown",
   "id": "943915a2",
   "metadata": {},
   "source": [
    "As time goes by, the model becomes less and less efficient. This makes sense, since the FPCA was performed on the initial samples, and even if the model adapts to new scores, these scores do not corresponds to the true principal components of the data so far.\n",
    "<br>\n",
    "Thus we can suggest that the functional covariance matrix should be updated on a streaming fashion. This is possible since there is an online version for the standard deviation, and concept drift detectors can be used to notify changes in stationarity.\n",
    "<br>\n",
    "We move on to the data used on the paper."
   ]
  },
  {
   "cell_type": "markdown",
   "id": "8c8d93a6",
   "metadata": {},
   "source": [
    "## Ships dataset"
   ]
  },
  {
   "cell_type": "markdown",
   "id": "5dd95684",
   "metadata": {},
   "source": [
    "In this dataset we have:\n",
    "* y: the CO2 emissions of the ship voyage (real number)\n",
    "The functions associated to each voyage, to mention a few are:\n",
    "* Velocity\n",
    "* Acceleration\n",
    "* Power difference between port and starboard propeller shafts\n",
    "* Distance from the nominal route\n",
    "* Longitudinal wind component\n",
    "* Transverse wind component\n",
    "* Air temperature, mean of four engines\n",
    "* Trim\n",
    "* Cumulative sailing time\n",
    "\n",
    "For full detail, the paper can be consulted."
   ]
  },
  {
   "cell_type": "markdown",
   "id": "3d5e4bc3",
   "metadata": {},
   "source": [
    "#### Feature extraction\n",
    "Again with rpy2 the FPCA is performed.\n",
    "<br><br>\n",
    "In this case, 50 principal components are used.\n",
    "<br> <br>\n",
    "As \"training\" or \"under control\" dataset, the first 60 samples are used. This differs from the exact methodology in the paper.\n",
    "<br><br>\n",
    "Moreover, in the paper the principal components are chosen not taking into account their explained variance, but the marginal reduction of sum of squares when regressing CO2.\n",
    "<br><br>\n",
    "To maintain simplicity, in this demonstration, the first 50 are kept. This in a way makes sense, since the chosen model for online learning is a **Hoeffding Regressor** instead of a linear regression.\n",
    "<br><br>\n",
    "The T² and the SPE statistics are obtained as well for the control charts.\n",
    "<br><br>\n",
    "To obtain the control limits, without making any assumptions on their distributions, we use **chebysev's inequality**, which guarantees for **any distribution** that 91% of the data lie within 4 standard deviations from the mean. "
   ]
  },
  {
   "cell_type": "code",
   "execution_count": 147,
   "id": "243aa214",
   "metadata": {},
   "outputs": [
    {
     "name": "stdout",
     "output_type": "stream",
     "text": [
      "[1] 60 35\n",
      "<simpleError in coef[, i, j, drop = drop]: subscript out of bounds>\n",
      "[1] 914\n",
      "<simpleError in coef[, i, j, drop = drop]: subscript out of bounds>\n",
      "[1] 915\n",
      "<simpleError in coef[, i, j, drop = drop]: subscript out of bounds>\n",
      "[1] 916\n",
      "<simpleError in coef[, i, j, drop = drop]: subscript out of bounds>\n",
      "[1] 917\n",
      "<simpleError in coef[, i, j, drop = drop]: subscript out of bounds>\n",
      "[1] 918\n",
      "<simpleError in coef[, i, j, drop = drop]: subscript out of bounds>\n",
      "[1] 919\n",
      "<simpleError in coef[, i, j, drop = drop]: subscript out of bounds>\n",
      "[1] 920\n",
      "<simpleError in coef[, i, j, drop = drop]: subscript out of bounds>\n",
      "[1] 921\n",
      "<simpleError in coef[, i, j, drop = drop]: subscript out of bounds>\n",
      "[1] 922\n",
      "<simpleError in coef[, i, j, drop = drop]: subscript out of bounds>\n",
      "[1] 923\n",
      "<simpleError in coef[, i, j, drop = drop]: subscript out of bounds>\n",
      "[1] 924\n",
      "<simpleError in coef[, i, j, drop = drop]: subscript out of bounds>\n",
      "[1] 925\n",
      "<simpleError in coef[, i, j, drop = drop]: subscript out of bounds>\n",
      "[1] 926\n",
      "<simpleError in coef[, i, j, drop = drop]: subscript out of bounds>\n",
      "[1] 927\n",
      "<simpleError in coef[, i, j, drop = drop]: subscript out of bounds>\n",
      "[1] 928\n",
      "<simpleError in coef[, i, j, drop = drop]: subscript out of bounds>\n",
      "[1] 929\n",
      "<simpleError in coef[, i, j, drop = drop]: subscript out of bounds>\n",
      "[1] 930\n",
      "<simpleError in coef[, i, j, drop = drop]: subscript out of bounds>\n",
      "[1] 931\n",
      "<simpleError in coef[, i, j, drop = drop]: subscript out of bounds>\n",
      "[1] 932\n",
      "<simpleError in coef[, i, j, drop = drop]: subscript out of bounds>\n",
      "[1] 933\n",
      "<simpleError in coef[, i, j, drop = drop]: subscript out of bounds>\n",
      "[1] 934\n",
      "<simpleError in coef[, i, j, drop = drop]: subscript out of bounds>\n",
      "[1] 935\n",
      "<simpleError in coef[, i, j, drop = drop]: subscript out of bounds>\n",
      "[1] 936\n",
      "<simpleError in coef[, i, j, drop = drop]: subscript out of bounds>\n",
      "[1] 937\n",
      "<simpleError in coef[, i, j, drop = drop]: subscript out of bounds>\n",
      "[1] 938\n",
      "<simpleError in coef[, i, j, drop = drop]: subscript out of bounds>\n",
      "[1] 939\n",
      "<simpleError in coef[, i, j, drop = drop]: subscript out of bounds>\n",
      "[1] 940\n",
      "<simpleError in coef[, i, j, drop = drop]: subscript out of bounds>\n",
      "[1] 941\n",
      "<simpleError in coef[, i, j, drop = drop]: subscript out of bounds>\n",
      "[1] 942\n",
      "<simpleError in coef[, i, j, drop = drop]: subscript out of bounds>\n",
      "[1] 943\n",
      "<simpleError in coef[, i, j, drop = drop]: subscript out of bounds>\n",
      "[1] 944\n",
      "<simpleError in coef[, i, j, drop = drop]: subscript out of bounds>\n",
      "[1] 945\n",
      "<simpleError in coef[, i, j, drop = drop]: subscript out of bounds>\n",
      "[1] 946\n",
      "<simpleError in coef[, i, j, drop = drop]: subscript out of bounds>\n",
      "[1] 947\n",
      "<simpleError in coef[, i, j, drop = drop]: subscript out of bounds>\n",
      "[1] 948\n",
      "<simpleError in coef[, i, j, drop = drop]: subscript out of bounds>\n",
      "[1] 949\n",
      "<simpleError in coef[, i, j, drop = drop]: subscript out of bounds>\n",
      "[1] 950\n",
      "<simpleError in coef[, i, j, drop = drop]: subscript out of bounds>\n",
      "[1] 951\n",
      "<simpleError in coef[, i, j, drop = drop]: subscript out of bounds>\n",
      "[1] 952\n",
      "<simpleError in coef[, i, j, drop = drop]: subscript out of bounds>\n",
      "[1] 953\n",
      "<simpleError in coef[, i, j, drop = drop]: subscript out of bounds>\n",
      "[1] 954\n",
      "NULL\n"
     ]
    },
    {
     "data": {
      "text/html": [
       "<div>\n",
       "<style scoped>\n",
       "    .dataframe tbody tr th:only-of-type {\n",
       "        vertical-align: middle;\n",
       "    }\n",
       "\n",
       "    .dataframe tbody tr th {\n",
       "        vertical-align: top;\n",
       "    }\n",
       "\n",
       "    .dataframe thead th {\n",
       "        text-align: right;\n",
       "    }\n",
       "</style>\n",
       "<table border=\"1\" class=\"dataframe\">\n",
       "  <thead>\n",
       "    <tr style=\"text-align: right;\">\n",
       "      <th></th>\n",
       "      <th>V1</th>\n",
       "      <th>V2</th>\n",
       "      <th>V3</th>\n",
       "      <th>V4</th>\n",
       "      <th>V5</th>\n",
       "      <th>V6</th>\n",
       "      <th>V7</th>\n",
       "      <th>V8</th>\n",
       "      <th>V9</th>\n",
       "      <th>V10</th>\n",
       "      <th>...</th>\n",
       "      <th>V41</th>\n",
       "      <th>V42</th>\n",
       "      <th>V43</th>\n",
       "      <th>V44</th>\n",
       "      <th>V45</th>\n",
       "      <th>V46</th>\n",
       "      <th>V47</th>\n",
       "      <th>V48</th>\n",
       "      <th>V49</th>\n",
       "      <th>V50</th>\n",
       "    </tr>\n",
       "  </thead>\n",
       "  <tbody>\n",
       "    <tr>\n",
       "      <th>1</th>\n",
       "      <td>-5.077012</td>\n",
       "      <td>-0.662082</td>\n",
       "      <td>-0.377007</td>\n",
       "      <td>-0.181477</td>\n",
       "      <td>0.139123</td>\n",
       "      <td>0.057143</td>\n",
       "      <td>0.298137</td>\n",
       "      <td>0.003450</td>\n",
       "      <td>-0.269580</td>\n",
       "      <td>0.072661</td>\n",
       "      <td>...</td>\n",
       "      <td>0.027466</td>\n",
       "      <td>-0.117731</td>\n",
       "      <td>-0.056258</td>\n",
       "      <td>0.119344</td>\n",
       "      <td>-0.017147</td>\n",
       "      <td>0.071547</td>\n",
       "      <td>0.038464</td>\n",
       "      <td>-0.024256</td>\n",
       "      <td>-0.043773</td>\n",
       "      <td>0.012330</td>\n",
       "    </tr>\n",
       "    <tr>\n",
       "      <th>2</th>\n",
       "      <td>-4.650823</td>\n",
       "      <td>-0.671112</td>\n",
       "      <td>-0.594233</td>\n",
       "      <td>0.427589</td>\n",
       "      <td>0.461700</td>\n",
       "      <td>0.158687</td>\n",
       "      <td>0.180896</td>\n",
       "      <td>-0.170136</td>\n",
       "      <td>-0.261907</td>\n",
       "      <td>0.034156</td>\n",
       "      <td>...</td>\n",
       "      <td>-0.003824</td>\n",
       "      <td>0.062129</td>\n",
       "      <td>0.070946</td>\n",
       "      <td>0.062528</td>\n",
       "      <td>-0.137525</td>\n",
       "      <td>-0.044717</td>\n",
       "      <td>0.044070</td>\n",
       "      <td>-0.149388</td>\n",
       "      <td>0.045780</td>\n",
       "      <td>0.065253</td>\n",
       "    </tr>\n",
       "    <tr>\n",
       "      <th>3</th>\n",
       "      <td>-5.884794</td>\n",
       "      <td>0.792936</td>\n",
       "      <td>-0.820078</td>\n",
       "      <td>-0.416234</td>\n",
       "      <td>0.330343</td>\n",
       "      <td>-0.066530</td>\n",
       "      <td>0.243584</td>\n",
       "      <td>0.097111</td>\n",
       "      <td>-0.506205</td>\n",
       "      <td>0.112085</td>\n",
       "      <td>...</td>\n",
       "      <td>0.015155</td>\n",
       "      <td>-0.053970</td>\n",
       "      <td>-0.078555</td>\n",
       "      <td>0.070175</td>\n",
       "      <td>0.008732</td>\n",
       "      <td>0.037544</td>\n",
       "      <td>-0.071986</td>\n",
       "      <td>-0.034402</td>\n",
       "      <td>0.043776</td>\n",
       "      <td>-0.038008</td>\n",
       "    </tr>\n",
       "    <tr>\n",
       "      <th>4</th>\n",
       "      <td>-4.583373</td>\n",
       "      <td>-0.261519</td>\n",
       "      <td>0.626435</td>\n",
       "      <td>0.544395</td>\n",
       "      <td>0.173456</td>\n",
       "      <td>-0.512786</td>\n",
       "      <td>-0.060359</td>\n",
       "      <td>-0.395006</td>\n",
       "      <td>-0.047621</td>\n",
       "      <td>-0.097986</td>\n",
       "      <td>...</td>\n",
       "      <td>-0.080397</td>\n",
       "      <td>-0.079991</td>\n",
       "      <td>0.011334</td>\n",
       "      <td>-0.104518</td>\n",
       "      <td>0.083937</td>\n",
       "      <td>-0.073498</td>\n",
       "      <td>-0.056642</td>\n",
       "      <td>0.022020</td>\n",
       "      <td>-0.020888</td>\n",
       "      <td>-0.105588</td>\n",
       "    </tr>\n",
       "    <tr>\n",
       "      <th>5</th>\n",
       "      <td>-4.919551</td>\n",
       "      <td>-0.004096</td>\n",
       "      <td>0.140410</td>\n",
       "      <td>-0.142255</td>\n",
       "      <td>-0.281733</td>\n",
       "      <td>0.404240</td>\n",
       "      <td>-0.331869</td>\n",
       "      <td>0.071278</td>\n",
       "      <td>-0.042934</td>\n",
       "      <td>-0.180384</td>\n",
       "      <td>...</td>\n",
       "      <td>0.164986</td>\n",
       "      <td>0.150434</td>\n",
       "      <td>-0.084224</td>\n",
       "      <td>-0.112581</td>\n",
       "      <td>-0.005493</td>\n",
       "      <td>-0.013948</td>\n",
       "      <td>-0.092107</td>\n",
       "      <td>0.097928</td>\n",
       "      <td>-0.065660</td>\n",
       "      <td>0.136851</td>\n",
       "    </tr>\n",
       "  </tbody>\n",
       "</table>\n",
       "<p>5 rows × 50 columns</p>\n",
       "</div>"
      ],
      "text/plain": [
       "         V1        V2        V3        V4        V5        V6        V7  \\\n",
       "1 -5.077012 -0.662082 -0.377007 -0.181477  0.139123  0.057143  0.298137   \n",
       "2 -4.650823 -0.671112 -0.594233  0.427589  0.461700  0.158687  0.180896   \n",
       "3 -5.884794  0.792936 -0.820078 -0.416234  0.330343 -0.066530  0.243584   \n",
       "4 -4.583373 -0.261519  0.626435  0.544395  0.173456 -0.512786 -0.060359   \n",
       "5 -4.919551 -0.004096  0.140410 -0.142255 -0.281733  0.404240 -0.331869   \n",
       "\n",
       "         V8        V9       V10  ...       V41       V42       V43       V44  \\\n",
       "1  0.003450 -0.269580  0.072661  ...  0.027466 -0.117731 -0.056258  0.119344   \n",
       "2 -0.170136 -0.261907  0.034156  ... -0.003824  0.062129  0.070946  0.062528   \n",
       "3  0.097111 -0.506205  0.112085  ...  0.015155 -0.053970 -0.078555  0.070175   \n",
       "4 -0.395006 -0.047621 -0.097986  ... -0.080397 -0.079991  0.011334 -0.104518   \n",
       "5  0.071278 -0.042934 -0.180384  ...  0.164986  0.150434 -0.084224 -0.112581   \n",
       "\n",
       "        V45       V46       V47       V48       V49       V50  \n",
       "1 -0.017147  0.071547  0.038464 -0.024256 -0.043773  0.012330  \n",
       "2 -0.137525 -0.044717  0.044070 -0.149388  0.045780  0.065253  \n",
       "3  0.008732  0.037544 -0.071986 -0.034402  0.043776 -0.038008  \n",
       "4  0.083937 -0.073498 -0.056642  0.022020 -0.020888 -0.105588  \n",
       "5 -0.005493 -0.013948 -0.092107  0.097928 -0.065660  0.136851  \n",
       "\n",
       "[5 rows x 50 columns]"
      ]
     },
     "execution_count": 147,
     "metadata": {},
     "output_type": "execute_result"
    }
   ],
   "source": [
    "robjects.r('''\n",
    "library(fda)\n",
    "    load(\"shipsfd_2.RData\")\n",
    "\n",
    "    indices_train <- 1:60\n",
    "    # perform the FPCA on the first 60 samples\n",
    "    pca_W.1 <- pca.fd(ships.fd[indices_train],nharm=50,centerfns=F)\n",
    "\n",
    "    # PREPARE TRAINING SET\n",
    "\n",
    "    keep_pcs <- 15 # keep scores on up to keep_pcs components\n",
    "    Z <- array(0, c(60,50))\n",
    "    for (i in 1:60){\n",
    "      Z[i,] <- apply(pca_W.1$scores[i,,], MARGIN = 1, FUN = sum)\n",
    "    }\n",
    "    Z <- as.data.frame(Z)  # done preparing the under control set\n",
    "    rownames(Z) = indices_train    \n",
    "\n",
    "    # OBTAIN T2 statistic on the training set\n",
    "    SPE <- Z^2 # square element-wise\n",
    "    T2 <- SPE[,1:keep_pcs]\n",
    "    for ( i in ncol(T2)){\n",
    "      T2[,i] = SPE[,i] / pca_W.1$values[i]\n",
    "    }\n",
    "    T2 <- apply(T2, MARGIN = 1, FUN = sum)\n",
    "    SPE <- SPE[,-(1:keep_pcs)]\n",
    "    print(dim(SPE))\n",
    "    SPE <- apply(SPE, MARGIN = 1, FUN = sum)\n",
    "\n",
    "    # set up upper control limits. 4 sdev for 93.75% of data (CHEBYSEV)\n",
    "    UCL.T2 <- mean(T2) + sd(T2) * 4 \n",
    "    UCL.SPE <- mean(SPE) + sd(SPE) * 4 \n",
    "\n",
    "    # OBTAIN \"ONLINE\" SET\n",
    "\n",
    "    ### PREDICT SCORES ON NEW FUNCTIONAL SAMPLE\n",
    "    predictFPCA <- function(pca_obj, fdobj, nharm=25, nvar=3){\n",
    "      # Center (crucial!)\n",
    "      # fdobj$coefs <- fdobj$coefs - pca_obj$meanfd$coefs[,1,]\n",
    "\n",
    "      harmscr  <- array(0, c(nharm, nvar))\n",
    "      coefarray <- fdobj$coefs\n",
    "      harmcoefarray <- (pca_obj$harmonics)$coefs\n",
    "      basisobj <- fdobj$basis\n",
    "      for (j in 1:nvar) {\n",
    "        fdobjj  <- fd(as.matrix(coefarray[,j]), basisobj)\n",
    "        harmfdj <- fd(as.matrix(harmcoefarray[,,j]), basisobj)\n",
    "        harmscr[,j] <- inprod(fdobjj, harmfdj)\n",
    "      }\n",
    "      return (harmscr)\n",
    "    }\n",
    "\n",
    "    load(\"y_C02_emissions.RData\")\n",
    "    indices_test <- (1:dim(y)[1])[-indices_train]\n",
    "    y_na <- c(292, 508, 705)\n",
    "    y <- y[-y_na, ]\n",
    "    indices_test <- indices_test[-y_na]\n",
    "    Z_test <- array(0, dim = c(length(indices_test), 50) )\n",
    "    ok.ships <- NULL\n",
    "    k = 0\n",
    "    for (i in indices_test){\n",
    "      tryCatch({\n",
    "        cur.curve <- ships.fd[ i ]\n",
    "        scores <- predictFPCA(pca_W.1, cur.curve, nharm=50, nvar=9)\n",
    "        Z_test[k, ] = apply(scores[1:50,], MARGIN = 1, FUN = sum)\n",
    "        k = k+1\n",
    "        ok.ships <- c(ok.ships, i)\n",
    "      },\n",
    "      error = function(e){\n",
    "        print(e)\n",
    "        print(i)\n",
    "      })\n",
    "\n",
    "    }  \n",
    "    Z_test <- as.data.frame(Z_test)\n",
    "    print(problematic.ships)\n",
    "    y <- as.data.frame(y)\n",
    "''')\n",
    "\n",
    "with localconverter(robjects.default_converter + pandas2ri.converter):\n",
    "    ships_train = robjects.conversion.rpy2py(robjects.r('Z'))\n",
    "    ships_test = robjects.conversion.rpy2py(robjects.r('Z_test'))\n",
    "    UCL_T2 = robjects.conversion.rpy2py(robjects.r('UCL.T2'))\n",
    "    UCL_SPE = robjects.conversion.rpy2py(robjects.r('UCL.SPE'))\n",
    "    y_ships = robjects.conversion.rpy2py(robjects.r('y'))\n",
    "    eigenvals = robjects.conversion.rpy2py(robjects.r('pca_W.1$values'))\n",
    "    \n",
    "ships_train.head()"
   ]
  },
  {
   "cell_type": "code",
   "execution_count": 148,
   "id": "2cff9fea",
   "metadata": {},
   "outputs": [
    {
     "data": {
      "text/plain": [
       "951"
      ]
     },
     "execution_count": 148,
     "metadata": {},
     "output_type": "execute_result"
    }
   ],
   "source": [
    "ships_test.shape[0] + ships_train.shape[0]"
   ]
  },
  {
   "cell_type": "code",
   "execution_count": null,
   "id": "7715844a",
   "metadata": {},
   "outputs": [],
   "source": []
  },
  {
   "cell_type": "code",
   "execution_count": 149,
   "id": "be3f8b74",
   "metadata": {},
   "outputs": [
    {
     "data": {
      "text/plain": [
       "(951, 2)"
      ]
     },
     "execution_count": 149,
     "metadata": {},
     "output_type": "execute_result"
    }
   ],
   "source": [
    "y_ships.shape"
   ]
  },
  {
   "cell_type": "code",
   "execution_count": 150,
   "id": "4a91a25d",
   "metadata": {},
   "outputs": [
    {
     "data": {
      "text/plain": [
       "951"
      ]
     },
     "execution_count": 150,
     "metadata": {},
     "output_type": "execute_result"
    }
   ],
   "source": [
    "ships_test.shape[0] + ships_train.shape[0]"
   ]
  },
  {
   "cell_type": "code",
   "execution_count": 151,
   "id": "555800c0",
   "metadata": {},
   "outputs": [],
   "source": [
    "ships_test = ships_test.iloc[:851,:]\n",
    "y_ships = y_ships.iloc[:(951-40),]\n",
    "assert ships_test.shape[0] + ships_train.shape[0] == y_ships.shape[0]"
   ]
  },
  {
   "cell_type": "code",
   "execution_count": 152,
   "id": "08244a70",
   "metadata": {},
   "outputs": [
    {
     "data": {
      "text/html": [
       "<div>\n",
       "<style scoped>\n",
       "    .dataframe tbody tr th:only-of-type {\n",
       "        vertical-align: middle;\n",
       "    }\n",
       "\n",
       "    .dataframe tbody tr th {\n",
       "        vertical-align: top;\n",
       "    }\n",
       "\n",
       "    .dataframe thead th {\n",
       "        text-align: right;\n",
       "    }\n",
       "</style>\n",
       "<table border=\"1\" class=\"dataframe\">\n",
       "  <thead>\n",
       "    <tr style=\"text-align: right;\">\n",
       "      <th></th>\n",
       "      <th>V1</th>\n",
       "      <th>V2</th>\n",
       "      <th>V3</th>\n",
       "      <th>V4</th>\n",
       "      <th>V5</th>\n",
       "      <th>V6</th>\n",
       "      <th>V7</th>\n",
       "      <th>V8</th>\n",
       "      <th>V9</th>\n",
       "      <th>V10</th>\n",
       "      <th>...</th>\n",
       "      <th>V41</th>\n",
       "      <th>V42</th>\n",
       "      <th>V43</th>\n",
       "      <th>V44</th>\n",
       "      <th>V45</th>\n",
       "      <th>V46</th>\n",
       "      <th>V47</th>\n",
       "      <th>V48</th>\n",
       "      <th>V49</th>\n",
       "      <th>V50</th>\n",
       "    </tr>\n",
       "  </thead>\n",
       "  <tbody>\n",
       "    <tr>\n",
       "      <th>846</th>\n",
       "      <td>0.516514</td>\n",
       "      <td>0.215359</td>\n",
       "      <td>0.133868</td>\n",
       "      <td>-0.233821</td>\n",
       "      <td>-0.093670</td>\n",
       "      <td>0.030812</td>\n",
       "      <td>0.188357</td>\n",
       "      <td>-0.642207</td>\n",
       "      <td>0.376104</td>\n",
       "      <td>0.180155</td>\n",
       "      <td>...</td>\n",
       "      <td>-0.138184</td>\n",
       "      <td>0.004983</td>\n",
       "      <td>-0.001882</td>\n",
       "      <td>0.035990</td>\n",
       "      <td>0.060217</td>\n",
       "      <td>-0.005635</td>\n",
       "      <td>-0.073767</td>\n",
       "      <td>-0.025642</td>\n",
       "      <td>0.043239</td>\n",
       "      <td>0.212172</td>\n",
       "    </tr>\n",
       "    <tr>\n",
       "      <th>847</th>\n",
       "      <td>-0.766207</td>\n",
       "      <td>-1.180138</td>\n",
       "      <td>-0.341864</td>\n",
       "      <td>0.099256</td>\n",
       "      <td>-0.074838</td>\n",
       "      <td>1.641660</td>\n",
       "      <td>0.527456</td>\n",
       "      <td>0.955989</td>\n",
       "      <td>-0.048212</td>\n",
       "      <td>-0.026923</td>\n",
       "      <td>...</td>\n",
       "      <td>0.237214</td>\n",
       "      <td>-0.049867</td>\n",
       "      <td>-0.123977</td>\n",
       "      <td>0.229299</td>\n",
       "      <td>0.175267</td>\n",
       "      <td>-0.031148</td>\n",
       "      <td>-0.175155</td>\n",
       "      <td>-0.103403</td>\n",
       "      <td>0.115980</td>\n",
       "      <td>0.173859</td>\n",
       "    </tr>\n",
       "    <tr>\n",
       "      <th>848</th>\n",
       "      <td>1.051611</td>\n",
       "      <td>1.177727</td>\n",
       "      <td>-0.035214</td>\n",
       "      <td>-0.345421</td>\n",
       "      <td>-0.029058</td>\n",
       "      <td>-0.020550</td>\n",
       "      <td>0.117148</td>\n",
       "      <td>0.036612</td>\n",
       "      <td>-0.008801</td>\n",
       "      <td>-0.045492</td>\n",
       "      <td>...</td>\n",
       "      <td>-0.035292</td>\n",
       "      <td>-0.015747</td>\n",
       "      <td>0.239189</td>\n",
       "      <td>-0.014169</td>\n",
       "      <td>0.212505</td>\n",
       "      <td>-0.005564</td>\n",
       "      <td>0.084687</td>\n",
       "      <td>0.182636</td>\n",
       "      <td>-0.025965</td>\n",
       "      <td>0.141982</td>\n",
       "    </tr>\n",
       "    <tr>\n",
       "      <th>849</th>\n",
       "      <td>1.177192</td>\n",
       "      <td>-0.992549</td>\n",
       "      <td>-0.675790</td>\n",
       "      <td>-0.247458</td>\n",
       "      <td>-0.221972</td>\n",
       "      <td>0.955710</td>\n",
       "      <td>-0.264266</td>\n",
       "      <td>-0.232479</td>\n",
       "      <td>-0.121152</td>\n",
       "      <td>0.129822</td>\n",
       "      <td>...</td>\n",
       "      <td>-0.001015</td>\n",
       "      <td>0.013670</td>\n",
       "      <td>0.034228</td>\n",
       "      <td>0.142222</td>\n",
       "      <td>0.069132</td>\n",
       "      <td>-0.072757</td>\n",
       "      <td>-0.127565</td>\n",
       "      <td>0.054049</td>\n",
       "      <td>-0.223040</td>\n",
       "      <td>-0.147685</td>\n",
       "    </tr>\n",
       "    <tr>\n",
       "      <th>850</th>\n",
       "      <td>0.000000</td>\n",
       "      <td>0.000000</td>\n",
       "      <td>0.000000</td>\n",
       "      <td>0.000000</td>\n",
       "      <td>0.000000</td>\n",
       "      <td>0.000000</td>\n",
       "      <td>0.000000</td>\n",
       "      <td>0.000000</td>\n",
       "      <td>0.000000</td>\n",
       "      <td>0.000000</td>\n",
       "      <td>...</td>\n",
       "      <td>0.000000</td>\n",
       "      <td>0.000000</td>\n",
       "      <td>0.000000</td>\n",
       "      <td>0.000000</td>\n",
       "      <td>0.000000</td>\n",
       "      <td>0.000000</td>\n",
       "      <td>0.000000</td>\n",
       "      <td>0.000000</td>\n",
       "      <td>0.000000</td>\n",
       "      <td>0.000000</td>\n",
       "    </tr>\n",
       "  </tbody>\n",
       "</table>\n",
       "<p>5 rows × 50 columns</p>\n",
       "</div>"
      ],
      "text/plain": [
       "           V1        V2        V3        V4        V5        V6        V7  \\\n",
       "846  0.516514  0.215359  0.133868 -0.233821 -0.093670  0.030812  0.188357   \n",
       "847 -0.766207 -1.180138 -0.341864  0.099256 -0.074838  1.641660  0.527456   \n",
       "848  1.051611  1.177727 -0.035214 -0.345421 -0.029058 -0.020550  0.117148   \n",
       "849  1.177192 -0.992549 -0.675790 -0.247458 -0.221972  0.955710 -0.264266   \n",
       "850  0.000000  0.000000  0.000000  0.000000  0.000000  0.000000  0.000000   \n",
       "\n",
       "           V8        V9       V10  ...       V41       V42       V43  \\\n",
       "846 -0.642207  0.376104  0.180155  ... -0.138184  0.004983 -0.001882   \n",
       "847  0.955989 -0.048212 -0.026923  ...  0.237214 -0.049867 -0.123977   \n",
       "848  0.036612 -0.008801 -0.045492  ... -0.035292 -0.015747  0.239189   \n",
       "849 -0.232479 -0.121152  0.129822  ... -0.001015  0.013670  0.034228   \n",
       "850  0.000000  0.000000  0.000000  ...  0.000000  0.000000  0.000000   \n",
       "\n",
       "          V44       V45       V46       V47       V48       V49       V50  \n",
       "846  0.035990  0.060217 -0.005635 -0.073767 -0.025642  0.043239  0.212172  \n",
       "847  0.229299  0.175267 -0.031148 -0.175155 -0.103403  0.115980  0.173859  \n",
       "848 -0.014169  0.212505 -0.005564  0.084687  0.182636 -0.025965  0.141982  \n",
       "849  0.142222  0.069132 -0.072757 -0.127565  0.054049 -0.223040 -0.147685  \n",
       "850  0.000000  0.000000  0.000000  0.000000  0.000000  0.000000  0.000000  \n",
       "\n",
       "[5 rows x 50 columns]"
      ]
     },
     "execution_count": 152,
     "metadata": {},
     "output_type": "execute_result"
    }
   ],
   "source": [
    "ships_test.iloc[:850,:].tail()"
   ]
  },
  {
   "cell_type": "markdown",
   "id": "f1e695f3",
   "metadata": {},
   "source": [
    "The sample that failed to be projected with the covariance matrix is taken out."
   ]
  },
  {
   "cell_type": "code",
   "execution_count": 153,
   "id": "17dc9749",
   "metadata": {},
   "outputs": [],
   "source": [
    "y_ships = y_ships[~y_ships.isin(['295'])][:]\n",
    "#y_ships = y_ships.iloc[1:914,:]"
   ]
  },
  {
   "cell_type": "code",
   "execution_count": 154,
   "id": "af3bc1ba",
   "metadata": {},
   "outputs": [
    {
     "data": {
      "text/plain": [
       "(911, 2)"
      ]
     },
     "execution_count": 154,
     "metadata": {},
     "output_type": "execute_result"
    }
   ],
   "source": [
    "y_ships.shape"
   ]
  },
  {
   "cell_type": "markdown",
   "id": "a89234fb",
   "metadata": {},
   "source": [
    "For the CUSUM chart, which will be used for the MSE, the class defined at the exercise session is used and modified to keep the long term record for a later plot."
   ]
  },
  {
   "cell_type": "code",
   "execution_count": 155,
   "id": "9189043a",
   "metadata": {},
   "outputs": [],
   "source": [
    "class CUSUM():\n",
    "    def __init__(self,delta,lamb,min_obs):\n",
    "        # Initialization\n",
    "        self._n = 1\n",
    "        self._x_mean = 0.0\n",
    "        self._sum = 0.0\n",
    "        self._delta = delta\n",
    "        self._lambda = lamb\n",
    "        self._min_obs = min_obs\n",
    "        self.warning_detected = False\n",
    "        self.change_detected = False\n",
    "        self.mean_list = list()  # keep track of the mean\n",
    "        self.sum_list = list() # keep track of the cumulative sum\n",
    "        \n",
    "    def update(self,value):\n",
    "        self._x_mean += (value - self._x_mean) / self._n\n",
    "        self.mean_list.append(self._x_mean) # add to mean list\n",
    "        self._sum = max(0, self._sum + value - self._x_mean - self._delta)\n",
    "        self.sum_list.append(self._sum)  # add to sum list\n",
    "        self._n += 1\n",
    "        \n",
    "        if self._n >= self._min_obs and self._sum > self._lambda:\n",
    "            self.change_detected = True\n",
    "        \n",
    "        \n",
    "    def reset(self):\n",
    "        self._n = 1\n",
    "        self._x_mean = 0.0\n",
    "        self._sum = 0.0\n",
    "        self.warning_detected = False\n",
    "        self.change_detected = False"
   ]
  },
  {
   "cell_type": "markdown",
   "id": "a6835122",
   "metadata": {},
   "source": [
    "We first learn on the \"under control\" dataset."
   ]
  },
  {
   "cell_type": "code",
   "execution_count": 189,
   "id": "704c5dcc",
   "metadata": {},
   "outputs": [
    {
     "name": "stdout",
     "output_type": "stream",
     "text": [
      "2276.8482006903196\n",
      "2277.452668251654\n",
      "2268.187856286409\n",
      "2398.3235596474183\n",
      "2186.4508597100994\n",
      "2022.62947423468\n",
      "2045.8635250896941\n",
      "2118.740048102014\n",
      "1998.9198297789865\n",
      "1976.422051055602\n",
      "1960.1803553091856\n",
      "1901.5648855637996\n",
      "1857.2246168646982\n",
      "1812.4113085899498\n",
      "1813.6380700318878\n",
      "1779.7278048925693\n",
      "1784.0521667565274\n",
      "1797.6082982311864\n",
      "1733.1259023320708\n",
      "1719.8953859855583\n",
      "1638.6459681083725\n",
      "1596.876923802162\n",
      "1595.393470553615\n",
      "1542.0346418519293\n",
      "1620.4984063987072\n",
      "1558.485649138599\n",
      "1534.7889015220055\n",
      "1505.3517689954588\n",
      "1462.536228061851\n",
      "1464.5686397843326\n",
      "1409.5481430128123\n",
      "1341.3565280068028\n",
      "1314.3567991315726\n",
      "1239.7674501037172\n",
      "1221.0554416525451\n",
      "1180.9792920489858\n",
      "1115.6206207869309\n",
      "1028.6412069347214\n",
      "1000.9645563161258\n",
      "943.5161962757093\n",
      "900.2335226459834\n",
      "866.526362688026\n",
      "846.5019184417913\n",
      "825.1996904767198\n",
      "804.7913451386792\n",
      "762.4226326889165\n",
      "725.7872742900169\n",
      "662.3495125776134\n",
      "659.5478899638605\n",
      "610.8474929348074\n",
      "624.4060555589135\n",
      "612.3485249733612\n",
      "564.4564539401858\n",
      "580.3906425518484\n",
      "489.9075619971463\n",
      "497.3062445099732\n",
      "482.64400067856025\n",
      "463.1120781771137\n",
      "454.46767786843196\n",
      "430.8889777490767\n"
     ]
    }
   ],
   "source": [
    "from river.tree import HoeffdingTreeRegressor\n",
    "from river import metrics\n",
    "\n",
    "# grace_period: Number of instances a leaf should observe between split attempts.\n",
    "model = preprocessing.StandardScaler() |  HoeffdingTreeRegressor(grace_period = 30) \n",
    "#model = preprocessing.StandardScaler() | linear_model.LinearRegression(intercept_lr=.1)\n",
    "\n",
    "metric = Rolling(metrics.MSE(), window_size=30)\n",
    "\n",
    "for x, y in iter_pandas(X=ships_train, y=y_ships.iloc[:60, 1]):\n",
    "    x = {k: x[k] for k in list(x.keys())[:15]}\n",
    "    y_p = model.predict_one(x)   # Predict class\n",
    "    if y_p is not None:\n",
    "        print(metric.update(y_true=y, y_pred=y_p).get())\n",
    "    model.learn_one(x, y)        # Train the model"
   ]
  },
  {
   "cell_type": "markdown",
   "id": "f2d1c298",
   "metadata": {},
   "source": [
    "The results make sense, since in the paper a 100 MSE was achieved on the whole dataset."
   ]
  },
  {
   "cell_type": "markdown",
   "id": "6e366e47",
   "metadata": {},
   "source": [
    "We proceed to **online learning**.\n",
    "<br> <br>\n",
    "Page Hinkley CD detectors are used for the first two principal components (chosen just for the demo, the most significant ones could be chosen as well)."
   ]
  },
  {
   "cell_type": "code",
   "execution_count": 190,
   "id": "8f858184",
   "metadata": {},
   "outputs": [
    {
     "data": {
      "text/plain": [
       "13.735731333014165"
      ]
     },
     "metadata": {},
     "output_type": "display_data"
    }
   ],
   "source": [
    "from IPython.display import display, clear_output\n",
    "\n",
    "from river.drift import PageHinkley\n",
    "from river.drift import DDM\n",
    "\n",
    "# monitor regressors\n",
    "page_h_eigenval_1 = PageHinkley(min_instances=10)\n",
    "page_h_eigenval_2 = PageHinkley(min_instances=10)\n",
    "\n",
    "# monitor classification error\n",
    "cusum = CUSUM(delta=0.005,lamb=10,min_obs=30)\n",
    "\n",
    "warnings = list()\n",
    "drifts = list()\n",
    "T2 = list()\n",
    "SPE = list()\n",
    "warning = -1\n",
    "\n",
    "\n",
    "index = 0\n",
    "for x, y in iter_pandas(X=ships_test, y=y_ships.iloc[60:, 1]):\n",
    "    #print({k: x[k] for k in list(x.keys())[15:]})\n",
    "    xspe = {k: x[k] for k in list(x.keys())[15:]}\n",
    "    x = {k: x[k] for k in list(x.keys())[:15]}    \n",
    "    clear_output(wait=True)\n",
    "    \n",
    "    y_p = model.predict_one(x)   # Predict class\n",
    "    \n",
    "    page_h_1.update(x['V1'])  # update the monitor of the first regressor\n",
    "    page_h_2.update(x['V2'])  \n",
    "    cur_T2 = 0\n",
    "    cur_SPE = 0\n",
    "    k = 0\n",
    "    for p in (x.keys()):\n",
    "        cur_T2 += x[p]**2 / eigenvals[k]\n",
    "        k += 1\n",
    "    for p in xspe.keys():\n",
    "        cur_SPE += (xspe[p])**2\n",
    "    T2.append(cur_T2)\n",
    "    SPE.append(cur_SPE)\n",
    "    \n",
    "    \n",
    "    if y_p is not None:\n",
    "        display(metric.update(y_true=y, y_pred=y_p).get())  \n",
    "        ddm.update(y!=y_p)  # for DDM, 1 means error\n",
    "        cusum.update(metric.update(y_true=y, y_pred=y_p).get())\n",
    "\n",
    "    warning_detected = (page_h_1.warning_detected or page_h_1.warning_detected or\n",
    "                        ddm.warning_detected)\n",
    "    if warning_detected:\n",
    "        warning = i\n",
    "        display(\"Warning detected at index %s\" % index)\n",
    "    change_detected = (page_h_1.change_detected or page_h_1.change_detected or\n",
    "                        ddm.change_detected)\n",
    "    if change_detected:\n",
    "        if warning != -1:\n",
    "            display(f\"\"\"Warning detected at index \n",
    "                  {warning} and Change detected at index {index}\"\"\")\n",
    "            warnings.append(warning)\n",
    "            warning = -1\n",
    "        else: \n",
    "            print(f'Change detected at index {index}')\n",
    "        drifts.append(index)\n",
    "        \n",
    "    model.learn_one(x, y)        # Train the model\n",
    "    \n",
    "    index += 1\n",
    "    "
   ]
  },
  {
   "cell_type": "code",
   "execution_count": 181,
   "id": "4004c2a8",
   "metadata": {},
   "outputs": [
    {
     "data": {
      "text/plain": [
       "[]"
      ]
     },
     "execution_count": 181,
     "metadata": {},
     "output_type": "execute_result"
    }
   ],
   "source": [
    "warnings"
   ]
  },
  {
   "cell_type": "code",
   "execution_count": 182,
   "id": "0221d323",
   "metadata": {},
   "outputs": [
    {
     "data": {
      "text/plain": [
       "[236, 558]"
      ]
     },
     "execution_count": 182,
     "metadata": {},
     "output_type": "execute_result"
    }
   ],
   "source": [
    "drifts"
   ]
  },
  {
   "cell_type": "code",
   "execution_count": 183,
   "id": "a09c1f46",
   "metadata": {},
   "outputs": [
    {
     "data": {
      "text/plain": [
       "(851, 50)"
      ]
     },
     "execution_count": 183,
     "metadata": {},
     "output_type": "execute_result"
    }
   ],
   "source": [
    "ships_test.shape"
   ]
  },
  {
   "cell_type": "code",
   "execution_count": 184,
   "id": "90d928fc",
   "metadata": {},
   "outputs": [
    {
     "data": {
      "text/plain": [
       "(851,)"
      ]
     },
     "execution_count": 184,
     "metadata": {},
     "output_type": "execute_result"
    }
   ],
   "source": [
    "y_ships.iloc[60:, 1].shape"
   ]
  },
  {
   "cell_type": "markdown",
   "id": "ae822f74",
   "metadata": {},
   "source": [
    "## Control charts"
   ]
  },
  {
   "cell_type": "code",
   "execution_count": 185,
   "id": "e5113fa1",
   "metadata": {},
   "outputs": [],
   "source": [
    " from matplotlib import pyplot as plt"
   ]
  },
  {
   "cell_type": "markdown",
   "id": "905d1773",
   "metadata": {},
   "source": [
    "### CUSUM (MSE monitoring)\n",
    "We observe it diverges, so every 30 data there is a change detected.\n",
    "<br>\n",
    "The divergence is likely to happen for the same reason as for the CanadaWeather example: the covariance matrix estimate is not updated, and thus the projections are more and more uncertain. "
   ]
  },
  {
   "cell_type": "code",
   "execution_count": 192,
   "id": "aa2d6c4c",
   "metadata": {},
   "outputs": [
    {
     "data": {
      "image/png": "[encoded data removed]",
      "text/plain": [
       "<Figure size 432x288 with 1 Axes>"
      ]
     },
     "metadata": {
      "needs_background": "light"
     },
     "output_type": "display_data"
    }
   ],
   "source": [
    "plt.plot(cusum.mean_list[0:], label= \"mean\")\n",
    "plt.plot(cusum.sum_list[0:], label= \"cumulative sum\")\n",
    "plt.legend()\n",
    "plt.show()"
   ]
  },
  {
   "cell_type": "markdown",
   "id": "2e847943",
   "metadata": {},
   "source": [
    "### T² Control chart\n",
    "\n",
    "Here we recall the upper control limit was obtained via **chebysev inequality** and the training (or under control) data set.\n",
    "<br>\n",
    "The high UCL value for T2 shows the high variance in the estimate of the covariance matrix."
   ]
  },
  {
   "cell_type": "code",
   "execution_count": 193,
   "id": "511da053",
   "metadata": {},
   "outputs": [
    {
     "data": {
      "image/png": "[encoded data removed]",
      "text/plain": [
       "<Figure size 432x288 with 1 Axes>"
      ]
     },
     "metadata": {
      "needs_background": "light"
     },
     "output_type": "display_data"
    }
   ],
   "source": [
    "plt.plot(T2, label='T2')\n",
    "plt.axhline(y=UCL_T2, color='r', linestyle='-')\n",
    "plt.show()"
   ]
  },
  {
   "cell_type": "markdown",
   "id": "014d212e",
   "metadata": {},
   "source": [
    "## SPE control chart"
   ]
  },
  {
   "cell_type": "code",
   "execution_count": 194,
   "id": "4f40f881",
   "metadata": {},
   "outputs": [
    {
     "data": {
      "image/png": "[encoded data removed]",
      "text/plain": [
       "<Figure size 432x288 with 1 Axes>"
      ]
     },
     "metadata": {
      "needs_background": "light"
     },
     "output_type": "display_data"
    }
   ],
   "source": [
    "plt.plot(SPE, label='T2')\n",
    "plt.axhline(y=UCL_SPE, color='r', linestyle='-')\n",
    "plt.show()"
   ]
  },
  {
   "cell_type": "markdown",
   "id": "a55981a9",
   "metadata": {},
   "source": [
    "## Conclusion and proposals.\n",
    "### Conclusion\n",
    "With this project, we have seen how functional data analysis could be incorporated not only in the anomaly detection (control charts) setting as it was done in the original paper.\n",
    "<br>\n",
    "It can also be extended to the **Streaming machine learning** setting, where a model that is not necessarily a **Linear regression** can be used: in this case, a **Hoeffding tree** was used both for classification and regression, using the features of FPCA. \n",
    "\n",
    "### Proposals\n",
    "In both examples it is shown that the new samples, which were not used in the FPCA have more and more uncertain values in their scores. This is confirmed by the fact that even within the \"training\" set the control limits were extremely high.\n",
    "<br>\n",
    "This is due to the fact a covariance matrix for 18 dimensions of functional data, with 100 bases for smoothing and 50 principal components are being estimated with 60 samples.\n",
    "<br>\n",
    "The main proposal would thus be an **online version** of the **FPCA**, which can of course be obtained \n",
    "<br> Further dimensionality reduction techniques such as **functional depth measures** could be incorporated as well in the feature extraction.\n",
    "<br><br>\n",
    "### The most important realization of this project \n",
    "In addition, with the use of **concept drift tools**, if the FPCA covariance matrix is being updated, when there is a **warning**, **samples could be kept apart** to obtain **a new FPCA covariance matrix**. This keeping-apart of samples, thanks to the properties of the FPCA could be supported theoretically (just like the Hoeffding bound) thanks to its properties, and in my opinion should be further investigated.\n",
    "\n"
   ]
  },
  {
   "cell_type": "code",
   "execution_count": null,
   "id": "7ca8a4a6",
   "metadata": {},
   "outputs": [],
   "source": []
  }
 ],
 "metadata": {
  "kernelspec": {
   "display_name": "Python 3",
   "language": "python",
   "name": "python3"
  },
  "language_info": {
   "codemirror_mode": {
    "name": "ipython",
    "version": 3
   },
   "file_extension": ".py",
   "mimetype": "text/x-python",
   "name": "python",
   "nbconvert_exporter": "python",
   "pygments_lexer": "ipython3",
   "version": "3.6.15"
  }
 },
 "nbformat": 4,
 "nbformat_minor": 5
}
